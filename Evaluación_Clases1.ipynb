{
 "cells": [
  {
   "cell_type": "markdown",
   "metadata": {},
   "source": [
    "# Evaluación con clases"
   ]
  },
  {
   "cell_type": "code",
   "execution_count": 63,
   "metadata": {},
   "outputs": [],
   "source": [
    "class TiendaOnline:\n",
    "    def __init__ (self, ventas_totales=0.0):\n",
    "        self.inventario = []\n",
    "        self.clientes = {}\n",
    "        self.ventas_totales = ventas_totales\n",
    "\n",
    "    def agregar_producto(self, nombre, precio, cantidad):\n",
    "        for i in self.inventario:\n",
    "            if i[\"nombre\"] == nombre:\n",
    "                i[\"cantidad\"] += cantidad\n",
    "                i[\"precio\"] = precio\n",
    "                print(f\"El producto {\"nombre\"} ha sido actualizado, la cantidad es {i[\"cantidad\"]} y el precio es de {i[\"precio\"]}\")\n",
    "                return self.inventario\n",
    "           \n",
    "        nuevo_producto = {\"nombre\": nombre, \"precio\": precio, \"cantidad\": cantidad}\n",
    "        self.inventario.append(nuevo_producto)\n",
    "        print(f\"El producto se ha añadido al inventario, acualmente tenemos: {self.inventario}\")\n",
    "    "
   ]
  },
  {
   "cell_type": "code",
   "execution_count": 64,
   "metadata": {},
   "outputs": [],
   "source": [
    "naranjas = TiendaOnline()"
   ]
  },
  {
   "cell_type": "code",
   "execution_count": 65,
   "metadata": {},
   "outputs": [
    {
     "name": "stdout",
     "output_type": "stream",
     "text": [
      "El producto se ha añadido al inventario, acualmente tenemos: [{'nombre': 'naranjas', 'precio': 5, 'cantidad': 6}]\n"
     ]
    }
   ],
   "source": [
    "naranjas.agregar_producto(\"naranjas\", 5, 6)"
   ]
  },
  {
   "cell_type": "code",
   "execution_count": 66,
   "metadata": {},
   "outputs": [
    {
     "name": "stdout",
     "output_type": "stream",
     "text": [
      "El producto nombre ha sido actualizado, la cantidad es 13 y el precio es de 8\n"
     ]
    },
    {
     "data": {
      "text/plain": [
       "[{'nombre': 'naranjas', 'precio': 8, 'cantidad': 13}]"
      ]
     },
     "execution_count": 66,
     "metadata": {},
     "output_type": "execute_result"
    }
   ],
   "source": [
    "naranjas.agregar_producto(\"naranjas\", 8, 7)"
   ]
  },
  {
   "cell_type": "code",
   "execution_count": 69,
   "metadata": {},
   "outputs": [
    {
     "ename": "ValueError",
     "evalue": "Exceeds the limit (4300 digits) for integer string conversion; use sys.set_int_max_str_digits() to increase the limit",
     "output_type": "error",
     "traceback": [
      "\u001b[1;31m---------------------------------------------------------------------------\u001b[0m",
      "\u001b[1;31mValueError\u001b[0m                                Traceback (most recent call last)",
      "Cell \u001b[1;32mIn[69], line 8\u001b[0m\n\u001b[0;32m      6\u001b[0m \u001b[38;5;28;01mpass\u001b[39;00m\n\u001b[0;32m      7\u001b[0m lista_inventario\u001b[38;5;241m.\u001b[39mappend(nuevo_producto)\n\u001b[1;32m----> 8\u001b[0m \u001b[38;5;28mprint\u001b[39m(\u001b[38;5;124mf\u001b[39m\u001b[38;5;124m\"\u001b[39m\u001b[38;5;124mEl producto \u001b[39m\u001b[38;5;132;01m{\u001b[39;00mnuevo_producto[\u001b[38;5;124m\"\u001b[39m\u001b[38;5;124mnombre\u001b[39m\u001b[38;5;124m\"\u001b[39m]\u001b[38;5;132;01m}\u001b[39;00m\u001b[38;5;124m ha sido agregado a nuestro inventario, actualmente tenemos una cantidad total de \u001b[39m\u001b[38;5;132;01m{\u001b[39;00mnuevo_producto[\u001b[38;5;124m\"\u001b[39m\u001b[38;5;124mcantidad\u001b[39m\u001b[38;5;124m\"\u001b[39m]\u001b[38;5;132;01m}\u001b[39;00m\u001b[38;5;124m unidades a y su precio es de \u001b[39m\u001b[38;5;132;01m{\u001b[39;00mnuevo_producto[\u001b[38;5;124m\"\u001b[39m\u001b[38;5;124mprecio\u001b[39m\u001b[38;5;124m\"\u001b[39m]\u001b[38;5;132;01m}\u001b[39;00m\u001b[38;5;124m euros\u001b[39m\u001b[38;5;124m\"\u001b[39m)\n",
      "\u001b[1;31mValueError\u001b[0m: Exceeds the limit (4300 digits) for integer string conversion; use sys.set_int_max_str_digits() to increase the limit"
     ]
    }
   ],
   "source": [
    "for i in lista_inventario:\n",
    "    if i[\"nombre\"] == nuevo_producto[\"nombre\"]:\n",
    "        i[\"cantidad\"] += nuevo_producto[\"cantidad\"]\n",
    "        i[\"precio\"] = nuevo_producto[\"precio\"]\n",
    "        print(f\"El producto {nuevo_producto[\"nombre\"]} ha sido actualizado, la cantidad es {i[\"cantidad\"]} y el precio es de {i[\"precio\"]}\")\n",
    "    pass\n",
    "    lista_inventario.append(nuevo_producto)\n",
    "    print(f\"El producto {nuevo_producto[\"nombre\"]} ha sido agregado a nuestro inventario, actualmente tenemos una cantidad total de {nuevo_producto[\"cantidad\"]} unidades a y su precio es de {nuevo_producto[\"precio\"]} euros\")"
   ]
  }
 ],
 "metadata": {
  "kernelspec": {
   "display_name": "base",
   "language": "python",
   "name": "python3"
  },
  "language_info": {
   "codemirror_mode": {
    "name": "ipython",
    "version": 3
   },
   "file_extension": ".py",
   "mimetype": "text/x-python",
   "name": "python",
   "nbconvert_exporter": "python",
   "pygments_lexer": "ipython3",
   "version": "3.12.7"
  }
 },
 "nbformat": 4,
 "nbformat_minor": 2
}
