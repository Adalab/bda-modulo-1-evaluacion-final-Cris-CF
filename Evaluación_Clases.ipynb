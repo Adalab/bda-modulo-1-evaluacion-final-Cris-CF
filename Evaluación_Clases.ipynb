{
 "cells": [
  {
   "cell_type": "markdown",
   "metadata": {},
   "source": [
    "# Evaluación con clases"
   ]
  },
  {
   "cell_type": "code",
   "execution_count": 63,
   "metadata": {},
   "outputs": [],
   "source": [
    "class TiendaOnline:\n",
    "    def __init__ (self, ventas_totales=0.0):\n",
    "        self.inventario = []\n",
    "        self.clientes = {}\n",
    "        self.ventas_totales = ventas_totales\n",
    "\n",
    "    def agregar_producto(self, nombre, precio, cantidad):\n",
    "        for i in self.inventario:\n",
    "            if i[\"nombre\"] == nombre:\n",
    "                i[\"cantidad\"] += cantidad\n",
    "                i[\"precio\"] = precio\n",
    "                print(f\"El producto {\"nombre\"} ha sido actualizado, la cantidad es {i[\"cantidad\"]} y el precio es de {i[\"precio\"]}\")\n",
    "                return self.inventario\n",
    "           \n",
    "        nuevo_producto = {\"nombre\": nombre, \"precio\": precio, \"cantidad\": cantidad}\n",
    "        self.inventario.append(nuevo_producto)\n",
    "        print(f\"El producto se ha añadido al inventario, acualmente tenemos: {self.inventario}\")\n",
    "    "
   ]
  },
  {
   "cell_type": "code",
   "execution_count": 64,
   "metadata": {},
   "outputs": [],
   "source": [
    "naranjas = TiendaOnline()"
   ]
  },
  {
   "cell_type": "code",
   "execution_count": 65,
   "metadata": {},
   "outputs": [
    {
     "name": "stdout",
     "output_type": "stream",
     "text": [
      "El producto se ha añadido al inventario, acualmente tenemos: [{'nombre': 'naranjas', 'precio': 5, 'cantidad': 6}]\n"
     ]
    }
   ],
   "source": [
    "naranjas.agregar_producto(\"naranjas\", 5, 6)"
   ]
  },
  {
   "cell_type": "code",
   "execution_count": 66,
   "metadata": {},
   "outputs": [
    {
     "name": "stdout",
     "output_type": "stream",
     "text": [
      "El producto nombre ha sido actualizado, la cantidad es 13 y el precio es de 8\n"
     ]
    },
    {
     "data": {
      "text/plain": [
       "[{'nombre': 'naranjas', 'precio': 8, 'cantidad': 13}]"
      ]
     },
     "execution_count": 66,
     "metadata": {},
     "output_type": "execute_result"
    }
   ],
   "source": [
    "naranjas.agregar_producto(\"naranjas\", 8, 7)"
   ]
  },
  {
   "cell_type": "code",
   "execution_count": null,
   "metadata": {},
   "outputs": [
    {
     "ename": "SyntaxError",
     "evalue": "'return' outside function (601276557.py, line 6)",
     "output_type": "error",
     "traceback": [
      "\u001b[1;36m  Cell \u001b[1;32mIn[46], line 6\u001b[1;36m\u001b[0m\n\u001b[1;33m    return lista_inventario\u001b[0m\n\u001b[1;37m    ^\u001b[0m\n\u001b[1;31mSyntaxError\u001b[0m\u001b[1;31m:\u001b[0m 'return' outside function\n"
     ]
    }
   ],
   "source": [
    "for i in lista_inventario:\n",
    "    if i[\"nombre\"] == nuevo_producto[\"nombre\"]:\n",
    "        i[\"cantidad\"] += nuevo_producto[\"cantidad\"]\n",
    "        i[\"precio\"] = nuevo_producto[\"precio\"]\n",
    "        print(f\"El producto {nuevo_producto[\"nombre\"]} ha sido actualizado, la cantidad es {i[\"cantidad\"]} y el precio es de {i[\"precio\"]}\")\n",
    "    \n",
    "\n",
    "lista_inventario.append(nuevo_producto)\n",
    "print(f\"El producto {nuevo_producto[\"nombre\"]} ha sido agregado a nuestro inventario, actualmente tenemos una cantidad total de {nuevo_producto[\"cantidad\"]} unidades a y su precio es de {nuevo_producto[\"precio\"]} euros\")"
   ]
  }
 ],
 "metadata": {
  "kernelspec": {
   "display_name": "base",
   "language": "python",
   "name": "python3"
  },
  "language_info": {
   "codemirror_mode": {
    "name": "ipython",
    "version": 3
   },
   "file_extension": ".py",
   "mimetype": "text/x-python",
   "name": "python",
   "nbconvert_exporter": "python",
   "pygments_lexer": "ipython3",
   "version": "3.12.7"
  }
 },
 "nbformat": 4,
 "nbformat_minor": 2
}
