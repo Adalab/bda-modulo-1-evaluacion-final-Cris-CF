{
 "cells": [
  {
   "cell_type": "markdown",
   "metadata": {},
   "source": [
    "# Evaluación con clases"
   ]
  },
  {
   "cell_type": "code",
   "execution_count": null,
   "metadata": {},
   "outputs": [],
   "source": [
    "class TiendaOnline:\n",
    "    def __init__ (self, ventas_totales=0.0):\n",
    "        self.inventario = []\n",
    "        self.clientes = {}\n",
    "        self.ventas_totales = ventas_totales\n",
    "\n",
    "    def agregar_producto(self, nombre, precio, cantidad):\n",
    "        for i in self.inventario:\n",
    "            if i[\"nombre\"] == nombre:\n",
    "                i[\"cantidad\"] += cantidad\n",
    "                i[\"precio\"] = precio\n",
    "                print(f\"El producto {\"nombre\"} ha sido actualizado, la cantidad es {i[\"cantidad\"]} y el precio es de {i[\"precio\"]}\")\n",
    "                return self.inventario\n",
    "           \n",
    "        nuevo_producto = {\"nombre\": nombre, \"precio\": precio, \"cantidad\": cantidad}\n",
    "        self.inventario.append(nuevo_producto)\n",
    "        print(f\"El producto se ha añadido al inventario, acualmente tenemos: {self.inventario}\")\n",
    "    \n",
    "    def ver_inventario(self):\n",
    "        for i in self.inventario:\n",
    "            print(f\"Nombre: {i['nombre']}, precio:{i['precio']}, Cantidad: {i['cantidad']}\")\n",
    "    \n",
    "    def buscar_producto(self,nombre):\n",
    "        for i in self.inventario:\n",
    "            if nombre == i[\"nombre\"]:\n",
    "                print(f\"Nombre: {i[\"nombre\"]}, precio: {i[\"precio\"]}, cantidad: {i[\"cantidad\"]}\")\n",
    "                return self.inventario\n",
    "        print(\"Producto no encontrado.\")\n",
    "\n",
    "    def actualizar_stock(self, nombre, cantidad):\n",
    "        for i in self.inventario:\n",
    "            if nombre == i[\"nombre\"]:\n",
    "                i[\"cantidad\"] = cantidad\n",
    "                print(f\"El producto {i[\"nombre\"]}, se ha actualizado, ahora la cantidad es de {i[\"cantidad\"]}\")\n",
    "                return\n",
    "        print(f\"El producto no se encuentra en el inventario\")\n",
    "\n",
    "    def eliminar_producto(self, nombre):\n",
    "        for i in self.inventario:\n",
    "            if nombre == i[\"nombre\"]:\n",
    "                self.inventario.remove(i)\n",
    "                print(f\"El producto {i[\"nombre\"]}, se ha eliminado\")\n",
    "                return self.inventario\n",
    "        print(f\"El producto no se encuentra en el inventario\")\n",
    "\n",
    "    def calcular_valor_inventario(self):\n",
    "        valor_total = 0\n",
    "        for i in self.inventario:\n",
    "            valor_por_producto = i[\"precio\"] * i[\"cantidad\"]\n",
    "            valor_total += valor_por_producto\n",
    "            print(f\"{i[\"nombre\"]}: {i[\"cantidad\"]} articulos x {i[\"precio\"]} euros = {valor_por_producto} euros\")\n",
    "        print(f\"nuestro inventario tiene un valor total de {valor_total} euros\")\n",
    "\n",
    "    "
   ]
  },
  {
   "cell_type": "code",
   "execution_count": 128,
   "metadata": {},
   "outputs": [],
   "source": [
    "# 1. Agrego la categoria ropa a la tienda online y añado cazadora más tarde\n",
    "ropa = TiendaOnline()"
   ]
  },
  {
   "cell_type": "code",
   "execution_count": 129,
   "metadata": {},
   "outputs": [
    {
     "name": "stdout",
     "output_type": "stream",
     "text": [
      "El producto se ha añadido al inventario, acualmente tenemos: [{'nombre': 'Camisa', 'precio': 20, 'cantidad': 50}]\n"
     ]
    }
   ],
   "source": [
    "ropa.agregar_producto(\"Camisa\", 20, 50)"
   ]
  },
  {
   "cell_type": "code",
   "execution_count": 130,
   "metadata": {},
   "outputs": [
    {
     "name": "stdout",
     "output_type": "stream",
     "text": [
      "El producto se ha añadido al inventario, acualmente tenemos: [{'nombre': 'Camisa', 'precio': 20, 'cantidad': 50}, {'nombre': 'cazadora', 'precio': 45, 'cantidad': 36}]\n"
     ]
    }
   ],
   "source": [
    "ropa.agregar_producto(\"cazadora\", 45, 36)"
   ]
  },
  {
   "cell_type": "code",
   "execution_count": 131,
   "metadata": {},
   "outputs": [
    {
     "name": "stdout",
     "output_type": "stream",
     "text": [
      "El producto se ha añadido al inventario, acualmente tenemos: [{'nombre': 'Camisa', 'precio': 20, 'cantidad': 50}, {'nombre': 'cazadora', 'precio': 45, 'cantidad': 36}, {'nombre': 'pantalon', 'precio': 30, 'cantidad': 30}]\n"
     ]
    }
   ],
   "source": [
    "ropa.agregar_producto(\"pantalon\", 30, 30)"
   ]
  },
  {
   "cell_type": "code",
   "execution_count": 132,
   "metadata": {},
   "outputs": [
    {
     "name": "stdout",
     "output_type": "stream",
     "text": [
      "El producto se ha añadido al inventario, acualmente tenemos: [{'nombre': 'Camisa', 'precio': 20, 'cantidad': 50}, {'nombre': 'cazadora', 'precio': 45, 'cantidad': 36}, {'nombre': 'pantalon', 'precio': 30, 'cantidad': 30}, {'nombre': 'zapatos', 'precio': 50, 'cantidad': 40}]\n"
     ]
    }
   ],
   "source": [
    "ropa.agregar_producto(\"zapatos\", 50, 40)"
   ]
  },
  {
   "cell_type": "code",
   "execution_count": 133,
   "metadata": {},
   "outputs": [
    {
     "name": "stdout",
     "output_type": "stream",
     "text": [
      "El producto se ha añadido al inventario, acualmente tenemos: [{'nombre': 'Camisa', 'precio': 20, 'cantidad': 50}, {'nombre': 'cazadora', 'precio': 45, 'cantidad': 36}, {'nombre': 'pantalon', 'precio': 30, 'cantidad': 30}, {'nombre': 'zapatos', 'precio': 50, 'cantidad': 40}, {'nombre': 'camisa', 'precio': 20, 'cantidad': 50}]\n"
     ]
    }
   ],
   "source": [
    "ropa.agregar_producto(\"camisa\", 20, 50)"
   ]
  },
  {
   "cell_type": "code",
   "execution_count": 134,
   "metadata": {},
   "outputs": [
    {
     "name": "stdout",
     "output_type": "stream",
     "text": [
      "Nombre: Camisa, precio:20, Cantidad: 50\n",
      "Nombre: cazadora, precio:45, Cantidad: 36\n",
      "Nombre: pantalon, precio:30, Cantidad: 30\n",
      "Nombre: zapatos, precio:50, Cantidad: 40\n",
      "Nombre: camisa, precio:20, Cantidad: 50\n"
     ]
    }
   ],
   "source": [
    "#2 vemos el inventario con sus detalles\n",
    "ropa.ver_inventario()"
   ]
  },
  {
   "cell_type": "code",
   "execution_count": 135,
   "metadata": {},
   "outputs": [
    {
     "name": "stdout",
     "output_type": "stream",
     "text": [
      "Nombre: camisa, precio: 20, cantidad: 50\n"
     ]
    },
    {
     "data": {
      "text/plain": [
       "[{'nombre': 'Camisa', 'precio': 20, 'cantidad': 50},\n",
       " {'nombre': 'cazadora', 'precio': 45, 'cantidad': 36},\n",
       " {'nombre': 'pantalon', 'precio': 30, 'cantidad': 30},\n",
       " {'nombre': 'zapatos', 'precio': 50, 'cantidad': 40},\n",
       " {'nombre': 'camisa', 'precio': 20, 'cantidad': 50}]"
      ]
     },
     "execution_count": 135,
     "metadata": {},
     "output_type": "execute_result"
    }
   ],
   "source": [
    "# 3. encontrar un producto\n",
    "ropa.buscar_producto(\"camisa\")"
   ]
  },
  {
   "cell_type": "code",
   "execution_count": 136,
   "metadata": {},
   "outputs": [
    {
     "name": "stdout",
     "output_type": "stream",
     "text": [
      "El producto pantalon, se ha actualizado, ahora la cantidad es de 10\n"
     ]
    }
   ],
   "source": [
    "# 4. Actualiza el stock\n",
    "ropa.actualizar_stock(\"pantalon\",10)\n"
   ]
  },
  {
   "cell_type": "code",
   "execution_count": 137,
   "metadata": {},
   "outputs": [
    {
     "name": "stdout",
     "output_type": "stream",
     "text": [
      "Nombre: Camisa, precio:20, Cantidad: 50\n",
      "Nombre: cazadora, precio:45, Cantidad: 36\n",
      "Nombre: pantalon, precio:30, Cantidad: 10\n",
      "Nombre: zapatos, precio:50, Cantidad: 40\n",
      "Nombre: camisa, precio:20, Cantidad: 50\n"
     ]
    }
   ],
   "source": [
    "ropa.ver_inventario()"
   ]
  },
  {
   "cell_type": "code",
   "execution_count": 138,
   "metadata": {},
   "outputs": [
    {
     "name": "stdout",
     "output_type": "stream",
     "text": [
      "El producto se ha añadido al inventario, acualmente tenemos: [{'nombre': 'Camisa', 'precio': 20, 'cantidad': 50}, {'nombre': 'cazadora', 'precio': 45, 'cantidad': 36}, {'nombre': 'pantalon', 'precio': 30, 'cantidad': 10}, {'nombre': 'zapatos', 'precio': 50, 'cantidad': 40}, {'nombre': 'camisa', 'precio': 20, 'cantidad': 50}, {'nombre': 'camiseta', 'precio': 30, 'cantidad': 15}]\n"
     ]
    }
   ],
   "source": [
    "# 5. Elimina un producto del inventario por nombre\n",
    "#primero voy a añadir uno y luego lo voy a eliminar\n",
    "ropa.agregar_producto(\"camiseta\", 30, 15)"
   ]
  },
  {
   "cell_type": "code",
   "execution_count": 139,
   "metadata": {},
   "outputs": [
    {
     "name": "stdout",
     "output_type": "stream",
     "text": [
      "El producto camiseta, se ha eliminado\n"
     ]
    },
    {
     "data": {
      "text/plain": [
       "[{'nombre': 'Camisa', 'precio': 20, 'cantidad': 50},\n",
       " {'nombre': 'cazadora', 'precio': 45, 'cantidad': 36},\n",
       " {'nombre': 'pantalon', 'precio': 30, 'cantidad': 10},\n",
       " {'nombre': 'zapatos', 'precio': 50, 'cantidad': 40},\n",
       " {'nombre': 'camisa', 'precio': 20, 'cantidad': 50}]"
      ]
     },
     "execution_count": 139,
     "metadata": {},
     "output_type": "execute_result"
    }
   ],
   "source": [
    "ropa.eliminar_producto(\"camiseta\")"
   ]
  },
  {
   "cell_type": "code",
   "execution_count": 140,
   "metadata": {},
   "outputs": [
    {
     "name": "stdout",
     "output_type": "stream",
     "text": [
      "Camisa: 50 articulos x 20 euros = 1000 euros\n",
      "cazadora: 36 articulos x 45 euros = 1620 euros\n",
      "pantalon: 10 articulos x 30 euros = 300 euros\n",
      "zapatos: 40 articulos x 50 euros = 2000 euros\n",
      "camisa: 50 articulos x 20 euros = 1000 euros\n",
      "nuestro inventario tiene un valor total de 5920 euros\n"
     ]
    }
   ],
   "source": [
    "# 6. Calcula y muestra el valor total del inventario.\n",
    "ropa.calcular_valor_inventario()"
   ]
  },
  {
   "cell_type": "code",
   "execution_count": null,
   "metadata": {},
   "outputs": [],
   "source": [
    "# 7. Permite a un cliente realizar una compra seleccionando productos del inventario. \n",
    "# Debe interactuar con el cliente para seleccionar productos y calcular el costo total de la compra."
   ]
  }
 ],
 "metadata": {
  "kernelspec": {
   "display_name": "base",
   "language": "python",
   "name": "python3"
  },
  "language_info": {
   "codemirror_mode": {
    "name": "ipython",
    "version": 3
   },
   "file_extension": ".py",
   "mimetype": "text/x-python",
   "name": "python",
   "nbconvert_exporter": "python",
   "pygments_lexer": "ipython3",
   "version": "3.12.7"
  }
 },
 "nbformat": 4,
 "nbformat_minor": 2
}
