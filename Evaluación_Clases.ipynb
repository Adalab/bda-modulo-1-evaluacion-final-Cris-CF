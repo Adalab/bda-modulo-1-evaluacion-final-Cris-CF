{
 "cells": [
  {
   "cell_type": "markdown",
   "metadata": {},
   "source": [
    "# Evaluación con clases"
   ]
  },
  {
   "cell_type": "code",
   "execution_count": 83,
   "metadata": {},
   "outputs": [],
   "source": [
    "class TiendaOnline:\n",
    "    def __init__ (self, ventas_totales=0.0):\n",
    "        self.inventario = []\n",
    "        self.clientes = {}\n",
    "        self.ventas_totales = ventas_totales\n",
    "\n",
    "    def agregar_producto(self, nombre, precio, cantidad):\n",
    "        for i in self.inventario:\n",
    "            if i[\"nombre\"] == nombre:\n",
    "                i[\"cantidad\"] += cantidad\n",
    "                i[\"precio\"] = precio\n",
    "                print(f\"El producto {\"nombre\"} ha sido actualizado, la cantidad es {i[\"cantidad\"]} y el precio es de {i[\"precio\"]}\")\n",
    "                return self.inventario\n",
    "           \n",
    "        nuevo_producto = {\"nombre\": nombre, \"precio\": precio, \"cantidad\": cantidad}\n",
    "        self.inventario.append(nuevo_producto)\n",
    "        print(f\"El producto se ha añadido al inventario, acualmente tenemos: {self.inventario}\")\n",
    "    \n",
    "    def ver_inventario(self):\n",
    "        for i in self.inventario:\n",
    "            print(f\"Nombre: {i['nombre']}, precio:{i['precio']}, Cantidad: {i['cantidad']}\")\n",
    "    \n",
    "    def buscar_producto(self,nombre):\n",
    "        for i in self.inventario:\n",
    "            if nombre == i[\"nombre\"]:\n",
    "                print(f\"Nombre: {i[\"nombre\"]}, precio: {i[\"precio\"]}, cantidad: {i[\"cantidad\"]}\")\n",
    "                return self.inventario\n",
    "        print(\"Producto no encontrado.\")\n",
    "\n",
    "    def actualizar_stock(self, nombre, cantidad):\n",
    "        for i in self.inventario:\n",
    "            if nombre == i[\"nombre\"]:\n",
    "                i[\"cantidad\"] = cantidad\n",
    "                print(f\"El producto {i[\"nombre\"]}, se ha actualizado, ahora la cantidad es de {i[\"cantidad\"]}\")\n",
    "                return\n",
    "        print(f\"El producto no se encuentra en el inventario\")\n",
    "\n",
    "    def eliminar_producto(self, nombre):\n",
    "        for i in self.inventario:\n",
    "            if nombre == i[\"nombre\"]:\n",
    "                self.inventario.remove(i)\n",
    "                print(f\"El producto {i[\"nombre\"]}, se ha eliminado\")\n",
    "                return self.inventario\n",
    "        print(f\"El producto no se encuentra en el inventario\")\n",
    "\n",
    "    def calcular_valor_inventario(self):\n",
    "        valor_total = 0\n",
    "        for i in self.inventario:\n",
    "            valor_por_producto = i[\"precio\"] * i[\"cantidad\"]\n",
    "            valor_total += valor_por_producto\n",
    "            print(f\"{i[\"nombre\"]}: {i[\"cantidad\"]} articulos x {i[\"precio\"]} euros = {valor_por_producto} euros\")\n",
    "        print(f\"nuestro inventario tiene un valor total de {valor_total} euros\")\n",
    "        \n",
    "    def realizar_compra(self):\n",
    "        carrito_vacio = {}\n",
    "        total_compra = 0\n",
    "        while True: \n",
    "            self.ver_inventario()\n",
    "            compra_producto = input(\"Indica el nombre del producto que quieres comprar o salir para finalizar\")\n",
    "            if compra_producto.lower() == \"salir\":\n",
    "                break\n",
    "            \n",
    "            for i in self.inventario:\n",
    "                if compra_producto.lower() == i[\"nombre\"].lower():\n",
    "                    cantidad_producto = int(input(f\"¿Cuántas unidades desea comprar?\"))\n",
    "                    if cantidad_producto <= 0:\n",
    "                        print(\"La cantidad debe ser un número positivo.\")\n",
    "                        cantidad_producto = int(input(f\"¿Cuántas unidades desea comprar?\"))\n",
    "                    elif cantidad_producto > i[\"cantidad\"]:\n",
    "                        print(f\"No hay suficiente stock de: {i}, disponible en inventario: {i[\"cantidad\"]}\")\n",
    "                        break\n",
    "                    if i[\"nombre\"] in carrito_vacio:\n",
    "                        carrito_vacio[i[\"nombre\"]][\"cantidad\"] += cantidad_producto\n",
    "                    else:\n",
    "                        carrito_vacio[i[\"nombre\"]] = {\"precio\": i[\"precio\"], \"cantidad\": cantidad_producto}\n",
    "                    \n",
    "                    i[\"cantidad\"] -= cantidad_producto\n",
    "                    subtotal = i[\"precio\"] * cantidad_producto\n",
    "                    total_compra += subtotal\n",
    "                    print(f\"El artículo '{i['nombre']}' se ha agregado al carrito. Subtotal: {subtotal} euros\")\n",
    "                    break\n",
    "                else:\n",
    "                    print(\"Producto no encontrado. Intente de nuevo.\")\n",
    "                    break\n",
    "\n",
    "    def procesar_pago(self, total_compra):\n",
    "        print(f\"El total a pagar es: {total_compra} euros\")\n",
    "    \n",
    "        try:\n",
    "            cantidad_entregada = float(input(\"Ingrese aqui su pago\"))\n",
    "            if cantidad_entregada < total_compra:\n",
    "                print(f\"Faltan {(total_compra - cantidad_entregada)} euros para completar el pago\")\n",
    "            else:\n",
    "                cambio = cantidad_entregada - total_compra\n",
    "                print(f\"¡Gracias por su compra! Su cambio es de {cambio} euros\")\n",
    "        except:\n",
    "            print(\"Error: Ingrese un número válido.\")\n",
    "\n",
    "    def agregar_cliente(self, nombre, email):\n",
    "        if nombre in self.clientes:\n",
    "            print(f\"El cliente: {nombre} ya está en nuestra base de datos\")\n",
    "        else:\n",
    "            self.clientes[nombre] = {\"email\": email, \"compras\":[]}\n",
    "            print(f\"El cliente: {nombre} se ha añadido al sistema\")\n",
    "\n",
    "    def ver_clientes(self):\n",
    "        if len(self.clientes) == 0:\n",
    "            print(\"aun no hay clientes registrados\")\n",
    "        else:\n",
    "            for nombre, i in self.clientes.items():\n",
    "                print(f\"Nombre: {nombre}, Email: {i[\"email\"]}, Compras: {i[\"compras\"]}\")\n",
    "\n",
    "    def registrar_compra(self, nombre_cliente, carrito):\n",
    "        if nombre_cliente in self.clientes:\n",
    "            print(f\"Cliente: {nombre_cliente} encontrado.\")\n",
    "            \n",
    "            total_compra = 0\n",
    "            for nombre_articulo, valores in carrito.items():\n",
    "                precio_articulo = valores[\"precio\"]\n",
    "                cantidad_producto = valores[\"cantidad\"]\n",
    "                total_compra += precio_articulo * cantidad_producto\n",
    "            \n",
    "            registro_compra = {\"productos\": carrito, \"total\": total_compra}\n",
    "            self.clientes[nombre_cliente][\"compras\"].append(registro_compra)\n",
    "            print(f\"Compra registrada. Total: {total_compra} euros.\")\n",
    "        \n",
    "        else:\n",
    "            print(f\"No se puede realizar la acción porque el cliente {nombre_cliente} no está registrado.\")\n",
    "\n",
    "    "
   ]
  },
  {
   "cell_type": "code",
   "execution_count": 84,
   "metadata": {},
   "outputs": [],
   "source": [
    "# 1. Agrego la categoria ropa a la tienda online y añado cazadora más tarde\n",
    "ropa = TiendaOnline()"
   ]
  },
  {
   "cell_type": "code",
   "execution_count": 85,
   "metadata": {},
   "outputs": [
    {
     "name": "stdout",
     "output_type": "stream",
     "text": [
      "El producto se ha añadido al inventario, acualmente tenemos: [{'nombre': 'jersey', 'precio': 25, 'cantidad': 500}]\n"
     ]
    }
   ],
   "source": [
    "ropa.agregar_producto(\"jersey\", 25, 500 )"
   ]
  },
  {
   "cell_type": "code",
   "execution_count": 86,
   "metadata": {},
   "outputs": [
    {
     "name": "stdout",
     "output_type": "stream",
     "text": [
      "El producto se ha añadido al inventario, acualmente tenemos: [{'nombre': 'jersey', 'precio': 25, 'cantidad': 500}, {'nombre': 'Camisa', 'precio': 20, 'cantidad': 50}]\n"
     ]
    }
   ],
   "source": [
    "ropa.agregar_producto(\"Camisa\", 20, 50)"
   ]
  },
  {
   "cell_type": "code",
   "execution_count": 87,
   "metadata": {},
   "outputs": [
    {
     "name": "stdout",
     "output_type": "stream",
     "text": [
      "El producto se ha añadido al inventario, acualmente tenemos: [{'nombre': 'jersey', 'precio': 25, 'cantidad': 500}, {'nombre': 'Camisa', 'precio': 20, 'cantidad': 50}, {'nombre': 'pantalon', 'precio': 30, 'cantidad': 30}]\n"
     ]
    }
   ],
   "source": [
    "ropa.agregar_producto(\"pantalon\", 30, 30)"
   ]
  },
  {
   "cell_type": "code",
   "execution_count": 88,
   "metadata": {},
   "outputs": [
    {
     "name": "stdout",
     "output_type": "stream",
     "text": [
      "El producto se ha añadido al inventario, acualmente tenemos: [{'nombre': 'jersey', 'precio': 25, 'cantidad': 500}, {'nombre': 'Camisa', 'precio': 20, 'cantidad': 50}, {'nombre': 'pantalon', 'precio': 30, 'cantidad': 30}, {'nombre': 'zapatos', 'precio': 50, 'cantidad': 40}]\n"
     ]
    }
   ],
   "source": [
    "ropa.agregar_producto(\"zapatos\", 50, 40)"
   ]
  },
  {
   "cell_type": "code",
   "execution_count": 89,
   "metadata": {},
   "outputs": [
    {
     "name": "stdout",
     "output_type": "stream",
     "text": [
      "El producto se ha añadido al inventario, acualmente tenemos: [{'nombre': 'jersey', 'precio': 25, 'cantidad': 500}, {'nombre': 'Camisa', 'precio': 20, 'cantidad': 50}, {'nombre': 'pantalon', 'precio': 30, 'cantidad': 30}, {'nombre': 'zapatos', 'precio': 50, 'cantidad': 40}, {'nombre': 'camisa', 'precio': 20, 'cantidad': 50}]\n"
     ]
    }
   ],
   "source": [
    "ropa.agregar_producto(\"camisa\", 20, 50)"
   ]
  },
  {
   "cell_type": "code",
   "execution_count": 90,
   "metadata": {},
   "outputs": [
    {
     "name": "stdout",
     "output_type": "stream",
     "text": [
      "Nombre: jersey, precio:25, Cantidad: 500\n",
      "Nombre: Camisa, precio:20, Cantidad: 50\n",
      "Nombre: pantalon, precio:30, Cantidad: 30\n",
      "Nombre: zapatos, precio:50, Cantidad: 40\n",
      "Nombre: camisa, precio:20, Cantidad: 50\n"
     ]
    }
   ],
   "source": [
    "#2 vemos el inventario con sus detalles\n",
    "ropa.ver_inventario()"
   ]
  },
  {
   "cell_type": "code",
   "execution_count": 91,
   "metadata": {},
   "outputs": [
    {
     "name": "stdout",
     "output_type": "stream",
     "text": [
      "Nombre: camisa, precio: 20, cantidad: 50\n"
     ]
    },
    {
     "data": {
      "text/plain": [
       "[{'nombre': 'jersey', 'precio': 25, 'cantidad': 500},\n",
       " {'nombre': 'Camisa', 'precio': 20, 'cantidad': 50},\n",
       " {'nombre': 'pantalon', 'precio': 30, 'cantidad': 30},\n",
       " {'nombre': 'zapatos', 'precio': 50, 'cantidad': 40},\n",
       " {'nombre': 'camisa', 'precio': 20, 'cantidad': 50}]"
      ]
     },
     "execution_count": 91,
     "metadata": {},
     "output_type": "execute_result"
    }
   ],
   "source": [
    "# 3. encontrar un producto\n",
    "ropa.buscar_producto(\"camisa\")"
   ]
  },
  {
   "cell_type": "code",
   "execution_count": 92,
   "metadata": {},
   "outputs": [
    {
     "name": "stdout",
     "output_type": "stream",
     "text": [
      "El producto pantalon, se ha actualizado, ahora la cantidad es de 10\n"
     ]
    }
   ],
   "source": [
    "# 4. Actualiza el stock\n",
    "ropa.actualizar_stock(\"pantalon\",10)\n"
   ]
  },
  {
   "cell_type": "code",
   "execution_count": 93,
   "metadata": {},
   "outputs": [
    {
     "name": "stdout",
     "output_type": "stream",
     "text": [
      "Nombre: jersey, precio:25, Cantidad: 500\n",
      "Nombre: Camisa, precio:20, Cantidad: 50\n",
      "Nombre: pantalon, precio:30, Cantidad: 10\n",
      "Nombre: zapatos, precio:50, Cantidad: 40\n",
      "Nombre: camisa, precio:20, Cantidad: 50\n"
     ]
    }
   ],
   "source": [
    "ropa.ver_inventario()"
   ]
  },
  {
   "cell_type": "code",
   "execution_count": 94,
   "metadata": {},
   "outputs": [
    {
     "name": "stdout",
     "output_type": "stream",
     "text": [
      "El producto se ha añadido al inventario, acualmente tenemos: [{'nombre': 'jersey', 'precio': 25, 'cantidad': 500}, {'nombre': 'Camisa', 'precio': 20, 'cantidad': 50}, {'nombre': 'pantalon', 'precio': 30, 'cantidad': 10}, {'nombre': 'zapatos', 'precio': 50, 'cantidad': 40}, {'nombre': 'camisa', 'precio': 20, 'cantidad': 50}, {'nombre': 'camiseta', 'precio': 30, 'cantidad': 15}]\n"
     ]
    }
   ],
   "source": [
    "# 5. Elimina un producto del inventario por nombre\n",
    "#primero voy a añadir uno y luego lo voy a eliminar\n",
    "ropa.agregar_producto(\"camiseta\", 30, 15)"
   ]
  },
  {
   "cell_type": "code",
   "execution_count": 95,
   "metadata": {},
   "outputs": [
    {
     "name": "stdout",
     "output_type": "stream",
     "text": [
      "Nombre: jersey, precio:25, Cantidad: 500\n",
      "Nombre: Camisa, precio:20, Cantidad: 50\n",
      "Nombre: pantalon, precio:30, Cantidad: 10\n",
      "Nombre: zapatos, precio:50, Cantidad: 40\n",
      "Nombre: camisa, precio:20, Cantidad: 50\n",
      "Nombre: camiseta, precio:30, Cantidad: 15\n"
     ]
    }
   ],
   "source": [
    "ropa.ver_inventario()"
   ]
  },
  {
   "cell_type": "code",
   "execution_count": 96,
   "metadata": {},
   "outputs": [
    {
     "name": "stdout",
     "output_type": "stream",
     "text": [
      "El producto camiseta, se ha eliminado\n"
     ]
    },
    {
     "data": {
      "text/plain": [
       "[{'nombre': 'jersey', 'precio': 25, 'cantidad': 500},\n",
       " {'nombre': 'Camisa', 'precio': 20, 'cantidad': 50},\n",
       " {'nombre': 'pantalon', 'precio': 30, 'cantidad': 10},\n",
       " {'nombre': 'zapatos', 'precio': 50, 'cantidad': 40},\n",
       " {'nombre': 'camisa', 'precio': 20, 'cantidad': 50}]"
      ]
     },
     "execution_count": 96,
     "metadata": {},
     "output_type": "execute_result"
    }
   ],
   "source": [
    "ropa.eliminar_producto(\"camiseta\")"
   ]
  },
  {
   "cell_type": "code",
   "execution_count": 97,
   "metadata": {},
   "outputs": [
    {
     "name": "stdout",
     "output_type": "stream",
     "text": [
      "jersey: 500 articulos x 25 euros = 12500 euros\n",
      "Camisa: 50 articulos x 20 euros = 1000 euros\n",
      "pantalon: 10 articulos x 30 euros = 300 euros\n",
      "zapatos: 40 articulos x 50 euros = 2000 euros\n",
      "camisa: 50 articulos x 20 euros = 1000 euros\n",
      "nuestro inventario tiene un valor total de 16800 euros\n"
     ]
    }
   ],
   "source": [
    "# 6. Calcula y muestra el valor total del inventario.\n",
    "ropa.calcular_valor_inventario()"
   ]
  },
  {
   "cell_type": "code",
   "execution_count": 98,
   "metadata": {},
   "outputs": [
    {
     "name": "stdout",
     "output_type": "stream",
     "text": [
      "Nombre: jersey, precio:25, Cantidad: 500\n",
      "Nombre: Camisa, precio:20, Cantidad: 50\n",
      "Nombre: pantalon, precio:30, Cantidad: 10\n",
      "Nombre: zapatos, precio:50, Cantidad: 40\n",
      "Nombre: camisa, precio:20, Cantidad: 50\n",
      "El artículo 'jersey' se ha agregado al carrito. Subtotal: 125 euros\n",
      "Nombre: jersey, precio:25, Cantidad: 495\n",
      "Nombre: Camisa, precio:20, Cantidad: 50\n",
      "Nombre: pantalon, precio:30, Cantidad: 10\n",
      "Nombre: zapatos, precio:50, Cantidad: 40\n",
      "Nombre: camisa, precio:20, Cantidad: 50\n"
     ]
    }
   ],
   "source": [
    "# 7. Permite a un cliente realizar una compra seleccionando productos del inventario. \n",
    "# Debe interactuar con el cliente para seleccionar productos y calcular el costo total de la compra.\n",
    "ropa.realizar_compra()"
   ]
  },
  {
   "cell_type": "code",
   "execution_count": 99,
   "metadata": {},
   "outputs": [
    {
     "name": "stdout",
     "output_type": "stream",
     "text": [
      "El total a pagar es: 125 euros\n",
      "¡Gracias por su compra! Su cambio es de 75.0 euros\n"
     ]
    }
   ],
   "source": [
    "# 8. Procesa el pago de una compra, calcula el cambio y muestra un mensaje de confirmación\n",
    "ropa.procesar_pago(125)"
   ]
  },
  {
   "cell_type": "code",
   "execution_count": 100,
   "metadata": {},
   "outputs": [
    {
     "name": "stdout",
     "output_type": "stream",
     "text": [
      "El cliente: Cris se ha añadido al sistema\n"
     ]
    }
   ],
   "source": [
    "# 9. Agrega un nuevo cliente al registro de clientes. Debe recibir el nombre y el correo electrónico del cliente como parámetros.\n",
    "ropa.agregar_cliente(\"Cris\", \"cris@hotmail.com\")"
   ]
  },
  {
   "cell_type": "code",
   "execution_count": 101,
   "metadata": {},
   "outputs": [
    {
     "name": "stdout",
     "output_type": "stream",
     "text": [
      "El cliente: Rocio se ha añadido al sistema\n"
     ]
    }
   ],
   "source": [
    "ropa.agregar_cliente(\"Rocio\", \"rocio@adalab.es\")"
   ]
  },
  {
   "cell_type": "code",
   "execution_count": 102,
   "metadata": {},
   "outputs": [
    {
     "name": "stdout",
     "output_type": "stream",
     "text": [
      "El cliente: Laura se ha añadido al sistema\n"
     ]
    }
   ],
   "source": [
    "ropa.agregar_cliente(\"Laura\", \"laura@adalab.es\")"
   ]
  },
  {
   "cell_type": "code",
   "execution_count": 103,
   "metadata": {},
   "outputs": [
    {
     "data": {
      "text/plain": [
       "{'Cris': {'email': 'cris@hotmail.com', 'compras': []},\n",
       " 'Rocio': {'email': 'rocio@adalab.es', 'compras': []},\n",
       " 'Laura': {'email': 'laura@adalab.es', 'compras': []}}"
      ]
     },
     "execution_count": 103,
     "metadata": {},
     "output_type": "execute_result"
    }
   ],
   "source": [
    "ropa.clientes"
   ]
  },
  {
   "cell_type": "code",
   "execution_count": 104,
   "metadata": {},
   "outputs": [
    {
     "name": "stdout",
     "output_type": "stream",
     "text": [
      "Nombre: Cris, Email: cris@hotmail.com, Compras: []\n",
      "Nombre: Rocio, Email: rocio@adalab.es, Compras: []\n",
      "Nombre: Laura, Email: laura@adalab.es, Compras: []\n"
     ]
    }
   ],
   "source": [
    "# 10. Muestra la lista de clientes registrados con sus nombres y correos electrónicos\n",
    "ropa.ver_clientes()"
   ]
  },
  {
   "cell_type": "code",
   "execution_count": null,
   "metadata": {},
   "outputs": [
    {
     "name": "stdout",
     "output_type": "stream",
     "text": [
      "Cliente: Cris encontrado.\n",
      "Compra registrada. Total: 225 euros.\n"
     ]
    }
   ],
   "source": [
    "# 11. Registra una compra para un cliente, actualiza las ventas totales y agrega la compra al historial del cliente\n",
    "\n",
    "carrito_cris = {\"jersey\": {\"precio\": 25, \"cantidad\": 5}, \"Zapatos\": {\"precio\": 50, \"cantidad\": 2}}\n",
    "ropa.registrar_compra(\"Cris\", carrito_cris)\n"
   ]
  }
 ],
 "metadata": {
  "kernelspec": {
   "display_name": "base",
   "language": "python",
   "name": "python3"
  },
  "language_info": {
   "codemirror_mode": {
    "name": "ipython",
    "version": 3
   },
   "file_extension": ".py",
   "mimetype": "text/x-python",
   "name": "python",
   "nbconvert_exporter": "python",
   "pygments_lexer": "ipython3",
   "version": "3.12.7"
  }
 },
 "nbformat": 4,
 "nbformat_minor": 2
}
