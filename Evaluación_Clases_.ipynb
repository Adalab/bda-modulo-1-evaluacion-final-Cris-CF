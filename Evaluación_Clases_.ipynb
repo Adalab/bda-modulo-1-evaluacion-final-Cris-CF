{
 "cells": [
  {
   "cell_type": "markdown",
   "metadata": {},
   "source": [
    "# Evaluación con clases"
   ]
  },
  {
   "cell_type": "code",
   "execution_count": null,
   "metadata": {},
   "outputs": [],
   "source": [
    "class TiendaOnline:\n",
    "    # Inicialización de los atributos\n",
    "    def __init__ (self, ventas_totales = 0.0):\n",
    "        self.inventario = [] #lista vacía para almacenar las prendas\n",
    "        self.clientes = {} #diccionario vacio para almacenar la información de nuestros clientes\n",
    "        self.ventas_totales = ventas_totales #variable de tipo float cuyo valor inicial es 0\n",
    "#1\n",
    "    def agregar_producto(self, nombre, precio, cantidad):\n",
    "        #vamos a iterar sobre cada elemento en nuestra lista de inventario\n",
    "        for i in self.inventario:          \n",
    "            #si el nombre que me dan coincide con un articulo que ya tenga registrado...   \n",
    "            if nombre.lower() == i[\"nombre\"].lower():\n",
    "                i[\"cantidad\"] += cantidad  #incrementará las unidades en stock\n",
    "                i[\"precio\"] = precio #sobreescribirá el precio por el ultimo valor que le demos\n",
    "                print(f\"El producto {\"nombre\"} ha sido actualizado, la cantidad es {i[\"cantidad\"]} y el precio es de {i[\"precio\"]} euros\")\n",
    "                return self.inventario \n",
    "        #si el articulo no existe, agrega uno nuevo al inventario.   \n",
    "        nuevo_producto = {\"nombre\": nombre, \"precio\": precio, \"cantidad\": cantidad}\n",
    "        self.inventario.append(nuevo_producto)\n",
    "        print(f\"El producto se ha añadido al inventario, acualmente tenemos: {self.inventario}\")\n",
    "\n",
    "#2    \n",
    "    def ver_inventario(self):\n",
    "        for i in self.inventario: #este bucle nos va a devolver en detalle toda la información de nuestro inventario\n",
    "            print(f\"Nombre: {i['nombre']}, precio:{i['precio']} euros, Cantidad: {i['cantidad']} unidades\")\n",
    "\n",
    "#3    \n",
    "    def buscar_producto(self,nombre):\n",
    "        for i in self.inventario: #para cada elemento dentro del inventario va a comparar con el nombre que le demos\n",
    "            \n",
    "            if nombre.lower() == i[\"nombre\"].lower():\n",
    "                print(f\"Nombre: {i[\"nombre\"]}, precio: {i[\"precio\"]}, cantidad: {i[\"cantidad\"]}\")\n",
    "                #como coinciden los nombres, nos devuelve en pantalla un desglose del articulo\n",
    "                \n",
    "                return self.inventario\n",
    "        \n",
    "        print(\"Producto no encontrado.\") #en caso de no encontrar coincidencias, se sale del bucle y nos devuelve este texto\n",
    "\n",
    "#4\n",
    "    def actualizar_stock(self, nombre, cantidad):\n",
    "        for i in self.inventario:\n",
    "            \n",
    "            if nombre.lower() == i[\"nombre\"].lower(): #si como en anteriores apartados, coincide el nombre...\n",
    "                i[\"cantidad\"] = cantidad #se sobreescribe la cantidad\n",
    "                print(f\"El producto {i[\"nombre\"]}, se ha actualizado, ahora la cantidad es de {i[\"cantidad\"]}\")\n",
    "                \n",
    "                return\n",
    "        \n",
    "        print(f\"El producto no se encuentra en el inventario\") #cuando no hay coincidencias\n",
    "\n",
    "#5\n",
    "    def eliminar_producto(self, nombre):\n",
    "        for i in self.inventario:\n",
    "            \n",
    "            if nombre.lower() == i[\"nombre\"].lower(): #si localiza el articulo en el inventario\n",
    "                self.inventario.remove(i) #lo eliminará con \"remove\" \n",
    "                print(f\"El producto {i[\"nombre\"]}, se ha eliminado\") #nos devolverá un mensaje indicando qué prenda eliminó\n",
    "                \n",
    "                return self.inventario\n",
    "        \n",
    "        print(f\"El producto no se encuentra en el inventario\")\n",
    "\n",
    "#6\n",
    "    def calcular_valor_inventario(self):\n",
    "        valor_total = 0     #esta variable la usaremos para el calculo del total\n",
    "        \n",
    "        for i in self.inventario:\n",
    "            valor_por_producto = i[\"precio\"] * i[\"cantidad\"] #en esta variable para cada articulo habrá un valor de su stock por su precio\n",
    "            valor_total += valor_por_producto #registrará el acumulado de cada valor por producto\n",
    "            \n",
    "            print(f\"{i[\"nombre\"]}: {i[\"cantidad\"]} articulos x {i[\"precio\"]} euros = {valor_por_producto} euros\") # imprime el caclulo para cada articulo\n",
    "        \n",
    "        print(f\"nuestro inventario tiene un valor total de {valor_total} euros\") #el valor final del inventario\n",
    "\n",
    "#7        \n",
    "    def realizar_compra(self):\n",
    "        carrito_vacio = {} #diccionario para almacenar productos comprados\n",
    "        total_compra = 0 #valor total de la compras para llevar el registro\n",
    "        \n",
    "        while True: #con este tipo de bucle, el cliente podrá añadir a la cesta más de una prenda\n",
    "            compra_producto = input(\"Indica el nombre del producto que quieres comprar o salir para finalizar\").lower()\n",
    "            \n",
    "            if compra_producto == \"salir\":\n",
    "                break #me saca del bucle si escribe \"salir\"\n",
    "            \n",
    "            producto_elegido = False #para verificar si se encuentra el producto\n",
    "            for i in self.inventario:\n",
    "                \n",
    "                if compra_producto == i[\"nombre\"].lower():\n",
    "                    producto_elegido = True #marca el producto como encontrado, ahora me pedirá la cantidad deseada\n",
    "                    cantidad_producto = int(input(f\"¿Cuántas unidades desea comprar? \")) \n",
    "\n",
    "                    if cantidad_producto <= 0:\n",
    "                        print(\"La cantidad debe ser un número positivo.\") #no puede ser 0 o negativa\n",
    "                        cantidad_producto = int(input(f\"¿Cuántas unidades desea comprar?\")) \n",
    "                    \n",
    "                    elif cantidad_producto > i[\"cantidad\"]:\n",
    "                        print(f\"No hay suficiente stock de: {i}, disponible en inventario: {i[\"cantidad\"]}\") #si quiere más de lo que tengo\n",
    "                        break \n",
    "                    \n",
    "                    elif i[\"nombre\"] in carrito_vacio: #si ya hay un articulo con ese nombre en el carrito, me acumulará la nueva cantidad\n",
    "                        carrito_vacio[i[\"nombre\"]][\"cantidad\"] += cantidad_producto\n",
    "                    \n",
    "                    else: #si no hay mas articulos con ese nombre, lo añade al carrito con su precio y cantidad\n",
    "                        carrito_vacio[i[\"nombre\"]] = {\"precio\": i[\"precio\"], \"cantidad\": cantidad_producto}\n",
    "                    \n",
    "                    #calculo del total de todos los articulos en el carrito \n",
    "                    i[\"cantidad\"] -= cantidad_producto #descuenta la cantidad comprada del inventario.\n",
    "                    \n",
    "                    subtotal = i[\"precio\"] * cantidad_producto\n",
    "                    total_compra += subtotal\n",
    "                    print(f\"El artículo '{i['nombre']}' se ha agregado al carrito. Subtotal: {subtotal} euros.\")\n",
    "                    break \n",
    "            \n",
    "            if producto_elegido == False: #no encuentra el producto y nos devuelve un mensaje\n",
    "                print(\"Producto no encontrado. Intente de nuevo.\")\n",
    "\n",
    "#8\n",
    "    def procesar_pago(self, total_compra):\n",
    "        print(f\"El total a pagar es: {total_compra} euros\") #imprime por defecto el total que el cliente debe pagar\n",
    "    \n",
    "        try: #pedimos que intente lo siguiente o nos de un mensaje de error si no es posible\n",
    "            cantidad_entregada = float(input(\"Ingrese aqui su pago\"))\n",
    "            \n",
    "            if cantidad_entregada < total_compra: #verifica si el pago es insuficiente\n",
    "                print(f\"Faltan {(total_compra - cantidad_entregada)} euros para completar el pago\")\n",
    "            \n",
    "            else:\n",
    "                cambio = cantidad_entregada - total_compra #calcula el cambio a devolver al cliente\n",
    "                print(f\"¡Gracias por su compra! Aquí tiene su cambio --> {cambio} euros\")\n",
    "        \n",
    "        except:\n",
    "            print(\"Error: Ingrese un número válido.\") #no nos proporcionó un dato valido\n",
    "\n",
    "#9\n",
    "    def agregar_cliente(self, nombre, email):\n",
    "        #verifica si el cliente ya está registrado en el diccionario de clientes:\n",
    "        if nombre in self.clientes: \n",
    "            print(f\"{nombre} ya está en nuestra base de datos\")\n",
    "        \n",
    "        else: #en caso negativo, lo registramos en el sistema\n",
    "            self.clientes[nombre] = {\"email\": email, \"compras\":[]}\n",
    "            print(f\"{nombre} ahora figura en nuestra base de datos de clientes\")\n",
    "\n",
    "#10\n",
    "    def ver_clientes(self):\n",
    "        if len(self.clientes) == 0: #compruebo si el diccionario está vacio (no tiene ningun elemento)\n",
    "            print(\"aun no hay clientes registrados\")\n",
    "        \n",
    "        else:\n",
    "            for nombre, i in self.clientes.items(): #iteramos sobre clave y valor, es decir, sobre el nombre y todos detalles del cliente\n",
    "                print(f\"Nombre: {nombre}, Email: {i[\"email\"]}, Compras: {i[\"compras\"]}\")\n",
    "\n",
    "#11\n",
    "    def registrar_compra(self, nombre_cliente, carrito):\n",
    "        if nombre_cliente in self.clientes:\n",
    "            print(f\"Cliente: {nombre_cliente} encontrado.\") #verifica si el cliente está registrado\n",
    "            \n",
    "            total_compra = 0   #esta variable almacenará el total de la compra\n",
    "            for nombre_articulo, i in carrito.items(): #recorre el carrito y va devolviendo información sobre nombre, cantidad y precio\n",
    "                precio_articulo = i[\"precio\"] #nombramos la variable para su posterior calculo\n",
    "                cantidad_producto = i[\"cantidad\"] \n",
    "                total_compra += precio_articulo * cantidad_producto #suma el valor total de inventario de cada articulo al total de la compra\n",
    "\n",
    "            registro_compra = {\"productos\": carrito, \"total\": total_compra} #diccionario con los resultados que nos dio cada vuelta del bucle\n",
    "            self.clientes[nombre_cliente][\"compras\"].append(registro_compra) #agrega esta compra al historial del cliente\n",
    "            print(f\"Compra registrada. Total: {total_compra} euros.\")\n",
    "        \n",
    "        else: #cliente no registrado\n",
    "            print(f\"No se puede realizar la acción porque el cliente {nombre_cliente} no está registrado.\")\n",
    "\n",
    "#12\n",
    "    def ver_compras_cliente(self, nombre_cliente):\n",
    "        if nombre_cliente in self.clientes: #si está registrado, nos va a enseñar su historial de compras\n",
    "            print(f\"Aqui tienes el registro de las compras realizadas por {nombre_cliente}:\")\n",
    "            \n",
    "            compras_realizadas = self.clientes[nombre_cliente][\"compras\"] #lista de compras realizadas por el cliente\n",
    "            if compras_realizadas: #si el cliente tiene compras, recorre cada compra\n",
    "                \n",
    "                for i in compras_realizadas: #buscamos dentro del historial de compras\n",
    "                    print(f\"El total de sus compras ha sido de {i[\"total\"]} euros, aqui tienes el desglose:\")\n",
    "                    \n",
    "                    for nombre_producto, v in i[\"productos\"].items(): #vamos a pasar por cada nombre y detalles dentro de los articulos de las compras realizadas\n",
    "                        print(f\"--> {nombre_producto}, precio unidad: {v[\"precio\"]} euros, total unidades adquiridas: {v[\"cantidad\"]}\")\n",
    "            \n",
    "            else: #el cliente no tiene compras registradas\n",
    "                print(\"El cliente no tiene compras registradas.\") \n",
    "        \n",
    "        else: #indica el nombre del cliente que no está registrado aún\n",
    "            print(f\"El cliente {nombre_cliente} aún no está registrado.\") \n",
    "\n",
    "#13 \n",
    "    def calcular_ventas_totales(self):\n",
    "        ventas_totales = 0\n",
    " \n",
    "        for cliente, i in self.clientes.items():  #recorre todos los clientes y sus detalles en la base de datos\n",
    "            \n",
    "            for compra in i[\"compras\"]: #recorre las compras de cada cliente\n",
    "                ventas_totales += compra[\"total\"]  #suma el total de cada compra al total acumulado\n",
    "        \n",
    "        print(f\"Las ventas totales de la tienda son: {ventas_totales} euros.\")    "
   ]
  },
  {
   "cell_type": "code",
   "execution_count": 45,
   "metadata": {},
   "outputs": [],
   "source": [
    "# Generamos un objeto llamado web, con el que iremos probando los métodos\n",
    "web = TiendaOnline()"
   ]
  },
  {
   "cell_type": "markdown",
   "metadata": {},
   "source": [
    "**#Método 1. agregar_producto:** Este método agrega un producto al inventario o actualiza su\n",
    "cantidad si ya existe."
   ]
  },
  {
   "cell_type": "code",
   "execution_count": 46,
   "metadata": {},
   "outputs": [
    {
     "name": "stdout",
     "output_type": "stream",
     "text": [
      "El producto se ha añadido al inventario, acualmente tenemos: [{'nombre': 'jersey', 'precio': 25, 'cantidad': 500}]\n"
     ]
    }
   ],
   "source": [
    "web.agregar_producto(\"jersey\", 25, 500 )"
   ]
  },
  {
   "cell_type": "code",
   "execution_count": 47,
   "metadata": {},
   "outputs": [
    {
     "name": "stdout",
     "output_type": "stream",
     "text": [
      "El producto se ha añadido al inventario, acualmente tenemos: [{'nombre': 'jersey', 'precio': 25, 'cantidad': 500}, {'nombre': 'Camisa', 'precio': 20, 'cantidad': 50}]\n"
     ]
    }
   ],
   "source": [
    "web.agregar_producto(\"Camisa\", 20, 50)"
   ]
  },
  {
   "cell_type": "code",
   "execution_count": 48,
   "metadata": {},
   "outputs": [
    {
     "name": "stdout",
     "output_type": "stream",
     "text": [
      "El producto se ha añadido al inventario, acualmente tenemos: [{'nombre': 'jersey', 'precio': 25, 'cantidad': 500}, {'nombre': 'Camisa', 'precio': 20, 'cantidad': 50}, {'nombre': 'pantalon', 'precio': 30, 'cantidad': 30}]\n"
     ]
    }
   ],
   "source": [
    "web.agregar_producto(\"pantalon\", 30, 30)"
   ]
  },
  {
   "cell_type": "code",
   "execution_count": 49,
   "metadata": {},
   "outputs": [
    {
     "name": "stdout",
     "output_type": "stream",
     "text": [
      "El producto se ha añadido al inventario, acualmente tenemos: [{'nombre': 'jersey', 'precio': 25, 'cantidad': 500}, {'nombre': 'Camisa', 'precio': 20, 'cantidad': 50}, {'nombre': 'pantalon', 'precio': 30, 'cantidad': 30}, {'nombre': 'zapatos', 'precio': 50, 'cantidad': 40}]\n"
     ]
    }
   ],
   "source": [
    "web.agregar_producto(\"zapatos\", 50, 40)"
   ]
  },
  {
   "cell_type": "code",
   "execution_count": 50,
   "metadata": {},
   "outputs": [
    {
     "name": "stdout",
     "output_type": "stream",
     "text": [
      "El producto se ha añadido al inventario, acualmente tenemos: [{'nombre': 'jersey', 'precio': 25, 'cantidad': 500}, {'nombre': 'Camisa', 'precio': 20, 'cantidad': 50}, {'nombre': 'pantalon', 'precio': 30, 'cantidad': 30}, {'nombre': 'zapatos', 'precio': 50, 'cantidad': 40}, {'nombre': 'camisa', 'precio': 20, 'cantidad': 50}]\n"
     ]
    }
   ],
   "source": [
    "web.agregar_producto(\"camisa\", 20, 50)"
   ]
  },
  {
   "cell_type": "markdown",
   "metadata": {},
   "source": [
    "**#Método 2. ver_inventario(self):** Muestra el inventario de productos con sus detalles.\n",
    "\n",
    "_Imprime todos los detalles de cada producto._"
   ]
  },
  {
   "cell_type": "code",
   "execution_count": 51,
   "metadata": {},
   "outputs": [
    {
     "name": "stdout",
     "output_type": "stream",
     "text": [
      "Nombre: jersey, precio:25 euros, Cantidad: 500 unidades\n",
      "Nombre: Camisa, precio:20 euros, Cantidad: 50 unidades\n",
      "Nombre: pantalon, precio:30 euros, Cantidad: 30 unidades\n",
      "Nombre: zapatos, precio:50 euros, Cantidad: 40 unidades\n",
      "Nombre: camisa, precio:20 euros, Cantidad: 50 unidades\n"
     ]
    }
   ],
   "source": [
    "web.ver_inventario()"
   ]
  },
  {
   "cell_type": "markdown",
   "metadata": {},
   "source": [
    "**#Método 3. buscar_producto:** Busca un producto en el inventario por nombre y muestra sus detalles si se encuentra.\n",
    "\n",
    "_Si se encuentra el producto, imprime sus detalles_"
   ]
  },
  {
   "cell_type": "code",
   "execution_count": 52,
   "metadata": {},
   "outputs": [
    {
     "name": "stdout",
     "output_type": "stream",
     "text": [
      "Nombre: Camisa, precio: 20, cantidad: 50\n"
     ]
    },
    {
     "data": {
      "text/plain": [
       "[{'nombre': 'jersey', 'precio': 25, 'cantidad': 500},\n",
       " {'nombre': 'Camisa', 'precio': 20, 'cantidad': 50},\n",
       " {'nombre': 'pantalon', 'precio': 30, 'cantidad': 30},\n",
       " {'nombre': 'zapatos', 'precio': 50, 'cantidad': 40},\n",
       " {'nombre': 'camisa', 'precio': 20, 'cantidad': 50}]"
      ]
     },
     "execution_count": 52,
     "metadata": {},
     "output_type": "execute_result"
    }
   ],
   "source": [
    "web.buscar_producto(\"Camisa\")"
   ]
  },
  {
   "cell_type": "markdown",
   "metadata": {},
   "source": [
    "**#Método 4. actualizar_stock:** Actualiza el stock de un producto en el inventario.\n",
    "\n",
    "_Actualiza la cantidad según la entrada del usuario_\n",
    "\n",
    "_Si el producto no esta en el inventario muestra un mensaje indicándolo_"
   ]
  },
  {
   "cell_type": "code",
   "execution_count": 53,
   "metadata": {},
   "outputs": [
    {
     "name": "stdout",
     "output_type": "stream",
     "text": [
      "El producto pantalon, se ha actualizado, ahora la cantidad es de 10\n"
     ]
    }
   ],
   "source": [
    "web.actualizar_stock(\"pantalon\",10)\n"
   ]
  },
  {
   "cell_type": "code",
   "execution_count": 54,
   "metadata": {},
   "outputs": [
    {
     "name": "stdout",
     "output_type": "stream",
     "text": [
      "El producto no se encuentra en el inventario\n"
     ]
    }
   ],
   "source": [
    "web.actualizar_stock(\"vestido\",50)"
   ]
  },
  {
   "cell_type": "code",
   "execution_count": 55,
   "metadata": {},
   "outputs": [
    {
     "name": "stdout",
     "output_type": "stream",
     "text": [
      "Nombre: jersey, precio:25 euros, Cantidad: 500 unidades\n",
      "Nombre: Camisa, precio:20 euros, Cantidad: 50 unidades\n",
      "Nombre: pantalon, precio:30 euros, Cantidad: 10 unidades\n",
      "Nombre: zapatos, precio:50 euros, Cantidad: 40 unidades\n",
      "Nombre: camisa, precio:20 euros, Cantidad: 50 unidades\n"
     ]
    }
   ],
   "source": [
    "web.ver_inventario()"
   ]
  },
  {
   "cell_type": "markdown",
   "metadata": {},
   "source": [
    "**#Método 5. eliminar_producto:** Elimina un producto del inventario por nombre.\n",
    "\n",
    "_Elimina el producto del inventario si existe_\n",
    "\n",
    "_Si el producto no esta en el inventario muestra un mensaje indicándolo_"
   ]
  },
  {
   "cell_type": "code",
   "execution_count": 56,
   "metadata": {},
   "outputs": [
    {
     "name": "stdout",
     "output_type": "stream",
     "text": [
      "El producto se ha añadido al inventario, acualmente tenemos: [{'nombre': 'jersey', 'precio': 25, 'cantidad': 500}, {'nombre': 'Camisa', 'precio': 20, 'cantidad': 50}, {'nombre': 'pantalon', 'precio': 30, 'cantidad': 10}, {'nombre': 'zapatos', 'precio': 50, 'cantidad': 40}, {'nombre': 'camisa', 'precio': 20, 'cantidad': 50}, {'nombre': 'gorra', 'precio': 30, 'cantidad': 15}]\n"
     ]
    }
   ],
   "source": [
    "#Primero agrego un nuevo producto, que luego eliminaré\n",
    "web.agregar_producto(\"gorra\", 30, 15)"
   ]
  },
  {
   "cell_type": "code",
   "execution_count": 57,
   "metadata": {},
   "outputs": [
    {
     "name": "stdout",
     "output_type": "stream",
     "text": [
      "Nombre: jersey, precio:25 euros, Cantidad: 500 unidades\n",
      "Nombre: Camisa, precio:20 euros, Cantidad: 50 unidades\n",
      "Nombre: pantalon, precio:30 euros, Cantidad: 10 unidades\n",
      "Nombre: zapatos, precio:50 euros, Cantidad: 40 unidades\n",
      "Nombre: camisa, precio:20 euros, Cantidad: 50 unidades\n",
      "Nombre: gorra, precio:30 euros, Cantidad: 15 unidades\n"
     ]
    }
   ],
   "source": [
    "web.ver_inventario()"
   ]
  },
  {
   "cell_type": "code",
   "execution_count": 58,
   "metadata": {},
   "outputs": [
    {
     "name": "stdout",
     "output_type": "stream",
     "text": [
      "El producto gorra, se ha eliminado\n"
     ]
    },
    {
     "data": {
      "text/plain": [
       "[{'nombre': 'jersey', 'precio': 25, 'cantidad': 500},\n",
       " {'nombre': 'Camisa', 'precio': 20, 'cantidad': 50},\n",
       " {'nombre': 'pantalon', 'precio': 30, 'cantidad': 10},\n",
       " {'nombre': 'zapatos', 'precio': 50, 'cantidad': 40},\n",
       " {'nombre': 'camisa', 'precio': 20, 'cantidad': 50}]"
      ]
     },
     "execution_count": 58,
     "metadata": {},
     "output_type": "execute_result"
    }
   ],
   "source": [
    "web.eliminar_producto(\"gorra\")"
   ]
  },
  {
   "cell_type": "code",
   "execution_count": 59,
   "metadata": {},
   "outputs": [
    {
     "name": "stdout",
     "output_type": "stream",
     "text": [
      "El producto no se encuentra en el inventario\n"
     ]
    }
   ],
   "source": [
    "web.eliminar_producto(\"vestido\")"
   ]
  },
  {
   "cell_type": "markdown",
   "metadata": {},
   "source": [
    "**#Método 6. calcular_valor_inventario:** Calcula y muestra el valor total del inventario.\n",
    "\n",
    "_Itera a través del inventario sumando el valor de cada producto y va acumulando ese valor_\n",
    "\n",
    "_calcula el valor total del inventario_"
   ]
  },
  {
   "cell_type": "code",
   "execution_count": 60,
   "metadata": {},
   "outputs": [
    {
     "name": "stdout",
     "output_type": "stream",
     "text": [
      "jersey: 500 articulos x 25 euros = 12500 euros\n",
      "Camisa: 50 articulos x 20 euros = 1000 euros\n",
      "pantalon: 10 articulos x 30 euros = 300 euros\n",
      "zapatos: 40 articulos x 50 euros = 2000 euros\n",
      "camisa: 50 articulos x 20 euros = 1000 euros\n",
      "nuestro inventario tiene un valor total de 16800 euros\n"
     ]
    }
   ],
   "source": [
    "web.calcular_valor_inventario()"
   ]
  },
  {
   "cell_type": "markdown",
   "metadata": {},
   "source": [
    "**#Método 7. realizar_compra:** Permite a un cliente realizar una compra seleccionando productos del inventario. Debe interactuar\n",
    "con el cliente para seleccionar productos y calcular el costo total de la compra.\n",
    "\n",
    "_Permite al cliente realizar múltiples compras_\n",
    "\n",
    "_Muestra el inventario y solicita al cliente ingresar el nombre del producto que desea comprar y luego la cantidad_\n",
    "\n",
    "_Si nos dice \"salir\", terminamos la compra_\n",
    "\n",
    "_Registra los productos seleccionados en un carrito y actualiza el inventario_\n",
    "\n",
    "_Calcula el costo total de la compra_\n"
   ]
  },
  {
   "cell_type": "code",
   "execution_count": 61,
   "metadata": {},
   "outputs": [
    {
     "name": "stdout",
     "output_type": "stream",
     "text": [
      "El artículo 'jersey' se ha agregado al carrito. Subtotal: 50 euros.\n",
      "El artículo 'zapatos' se ha agregado al carrito. Subtotal: 200 euros.\n"
     ]
    }
   ],
   "source": [
    "web.realizar_compra()"
   ]
  },
  {
   "cell_type": "markdown",
   "metadata": {},
   "source": [
    "**#Método 8. procesar_pago:** Procesa el pago de una compra, calcula el cambio y muestra un mensaje de confirmación.\n",
    "\n",
    "_Solicita al cliente con un input el total que tiene que pagar y luego la cantidad que te da para pagar_\n",
    "\n",
    "_Calcula el cambio y muestra un mensaje de pago exitoso o un error en caso de cantidad insuficiente_"
   ]
  },
  {
   "cell_type": "code",
   "execution_count": 62,
   "metadata": {},
   "outputs": [
    {
     "name": "stdout",
     "output_type": "stream",
     "text": [
      "El total a pagar es: 125 euros\n",
      "¡Gracias por su compra! Aquí tiene su cambio --> 75.0 euros\n"
     ]
    }
   ],
   "source": [
    "web.procesar_pago(125)"
   ]
  },
  {
   "cell_type": "code",
   "execution_count": 63,
   "metadata": {},
   "outputs": [
    {
     "name": "stdout",
     "output_type": "stream",
     "text": [
      "El total a pagar es: 125 euros\n",
      "Faltan 65.0 euros para completar el pago\n"
     ]
    }
   ],
   "source": [
    "web.procesar_pago(125)"
   ]
  },
  {
   "cell_type": "markdown",
   "metadata": {},
   "source": [
    "**#Método 9. agregar_cliente:** Agrega un nuevo cliente al registro de clientes.\n",
    "\n",
    "_Debe recibir el nombre y el correo electrónico del cliente como parámetros_"
   ]
  },
  {
   "cell_type": "code",
   "execution_count": 64,
   "metadata": {},
   "outputs": [
    {
     "name": "stdout",
     "output_type": "stream",
     "text": [
      "Cris ahora figura en nuestra base de datos de clientes\n"
     ]
    }
   ],
   "source": [
    "web.agregar_cliente(\"Cris\", \"cris@hotmail.com\")"
   ]
  },
  {
   "cell_type": "code",
   "execution_count": 65,
   "metadata": {},
   "outputs": [
    {
     "name": "stdout",
     "output_type": "stream",
     "text": [
      "Cris ya está en nuestra base de datos\n"
     ]
    }
   ],
   "source": [
    "web.agregar_cliente(\"Cris\", \"cris@hotmail.com\")"
   ]
  },
  {
   "cell_type": "markdown",
   "metadata": {},
   "source": [
    "**#Método 10. ver_clientes:** Muestra la lista de clientes registrados con sus nombres y correos electrónicos.\n",
    "\n",
    "_Imprime los detalles de cada cliente como nombre y correo electrónico_"
   ]
  },
  {
   "cell_type": "code",
   "execution_count": 66,
   "metadata": {},
   "outputs": [
    {
     "name": "stdout",
     "output_type": "stream",
     "text": [
      "Nombre: Cris, Email: cris@hotmail.com, Compras: []\n"
     ]
    }
   ],
   "source": [
    "web.ver_clientes()"
   ]
  },
  {
   "cell_type": "markdown",
   "metadata": {},
   "source": [
    "**#Método 11. registrar_compra:** Registra una compra para un cliente, actualiza las ventas totales y agrega la compra al historial del cliente.\n",
    "\n",
    "_Si el cliente no esta en el diccionario de clientes, muestra que no se puede realizar la acción por que el cliente no está en\n",
    "el diccionario_\n",
    "\n",
    "_Calcula el total de la compra y registra la compra, incluyendo los productos y el total_"
   ]
  },
  {
   "cell_type": "code",
   "execution_count": 67,
   "metadata": {},
   "outputs": [
    {
     "name": "stdout",
     "output_type": "stream",
     "text": [
      "Cliente: Cris encontrado.\n",
      "Compra registrada. Total: 225 euros.\n"
     ]
    }
   ],
   "source": [
    "carrito_cris = {\"jersey\": {\"precio\": 25, \"cantidad\": 5}, \"Zapatos\": {\"precio\": 50, \"cantidad\": 2}}\n",
    "web.registrar_compra(\"Cris\", carrito_cris)\n"
   ]
  },
  {
   "cell_type": "markdown",
   "metadata": {},
   "source": [
    "**#Método 12. ver_compras_cliente:** Muestra el historial de compras de un cliente\n",
    "\n",
    "_Muestra las compras realizadas por el cliente, incluyendo detalles de productos y totales_"
   ]
  },
  {
   "cell_type": "code",
   "execution_count": 68,
   "metadata": {},
   "outputs": [
    {
     "name": "stdout",
     "output_type": "stream",
     "text": [
      "Aqui tienes el registro de las compras realizadas por Cris:\n",
      "El total de sus compras ha sido de 225 euros, aqui tienes el desglose:\n",
      "--> jersey, precio unidad: 25 euros, total unidades adquiridas: 5\n",
      "--> Zapatos, precio unidad: 50 euros, total unidades adquiridas: 2\n"
     ]
    }
   ],
   "source": [
    "web.ver_compras_cliente(\"Cris\")"
   ]
  },
  {
   "cell_type": "markdown",
   "metadata": {},
   "source": [
    "**#Método 13. calcular_ventas_totales:** Muestra las ventas totales de la tienda\n",
    "\n",
    "_Suma los totales de todas las compras realizadas y muestra el total de ventas totales en la tienda_"
   ]
  },
  {
   "cell_type": "code",
   "execution_count": 69,
   "metadata": {},
   "outputs": [
    {
     "name": "stdout",
     "output_type": "stream",
     "text": [
      "Las ventas totales de la tienda son: 225 euros.\n"
     ]
    }
   ],
   "source": [
    "web.calcular_ventas_totales()"
   ]
  }
 ],
 "metadata": {
  "kernelspec": {
   "display_name": "base",
   "language": "python",
   "name": "python3"
  },
  "language_info": {
   "codemirror_mode": {
    "name": "ipython",
    "version": 3
   },
   "file_extension": ".py",
   "mimetype": "text/x-python",
   "name": "python",
   "nbconvert_exporter": "python",
   "pygments_lexer": "ipython3",
   "version": "3.12.7"
  }
 },
 "nbformat": 4,
 "nbformat_minor": 2
}
