{
 "cells": [
  {
   "cell_type": "markdown",
   "metadata": {},
   "source": [
    "# Evaluation with classes"
   ]
  },
  {
   "cell_type": "code",
   "execution_count": null,
   "metadata": {},
   "outputs": [],
   "source": [
    "class OnlineStore:\n",
    "    # Initializing attributes\n",
    "    def __init__(self, total_sales=0.0):\n",
    "        self.inventory = [] #empty list to store clothes\n",
    "        self.customers = {} #empty dictionary to store our clients' information\n",
    "        self.total_sales = total_sales #Float type variable whose initial value is 0\n",
    "        \n",
    "#1  \n",
    "    def add_product(self, name, price, quantity):\n",
    "        #now we iterate over each item in our inventory list\n",
    "        for i in self.inventory:\n",
    "            #if the given name matches an article I already have registered...\n",
    "            if i[\"name\"].lower() == name.lower():\n",
    "                i[\"quantity\"] += quantity #it will increase the units in stock\n",
    "                i[\"price\"] = price #it will overwrite the price with the last value we gave it\n",
    "                print(f\"The product: {name} has been updated, quantity is now {i[\"quantity\"]} and the price is ${i[\"price\"]}\")\n",
    "                return self.inventory\n",
    "        #if the item does not exist, add a new one to the inventory.\n",
    "        new_product = {\"name\": name, \"price\": price, \"quantity\": quantity}\n",
    "        self.inventory.append(new_product)\n",
    "        print(f\"The product has been added to the inventory. Current inventory: {self.inventory}\")\n",
    "\n",
    "#2\n",
    "    def view_inventory(self):\n",
    "        for i in self.inventory: #this loop will return all the information about our inventory in detail\n",
    "            print(f\"Name: {i[\"name\"]},price: ${i[\"price\"]}, quantity: {i[\"quantity\"]} units\")\n",
    "\n",
    "#3\n",
    "    def search_product(self, name):\n",
    "        for i in self.inventory: #for each item in the inventory it will compare with the name we gave it\n",
    "            \n",
    "            if name.lower() == i[\"name\"].lower():\n",
    "                print(f\"Name: {i[\"name\"]}, price: ${i[\"price\"]}, quantity: {i[\"quantity\"]}\")\n",
    "                #since the names match, it returns all the info related to the item\n",
    "                \n",
    "                return self.inventory\n",
    "        \n",
    "        print(\"Product not found.\") #if no matches are found, the loop exits and this text is returned\n",
    "\n",
    "#4\n",
    "    def update_stock(self, name, quantity):\n",
    "        for i in self.inventory:\n",
    "            \n",
    "            if name.lower() == i[\"name\"].lower(): #as in previous sections, if the name matches...\n",
    "                i[\"quantity\"] = quantity #the amount is overwritten\n",
    "                print(f\"The product {i[\"name\"]} has been updated. The current quantity available is: {i[\"quantity\"]}\")\n",
    "                \n",
    "                return\n",
    "        \n",
    "        print(\"Product not found in the inventory.\") #when there are no matches\n",
    "\n",
    "#5\n",
    "    def remove_product(self, name):\n",
    "        for i in self.inventory:\n",
    "            \n",
    "            if name.lower() == i[\"name\"].lower(): #if you find the item in inventory\n",
    "                self.inventory.remove(i) #it will be removed \n",
    "                print(f\"The product {i[\"name\"]} has been removed.\") #it will return a message indicating which item was deleted\n",
    "                \n",
    "                return self.inventory\n",
    "        \n",
    "        print(\"Product not found in the inventory.\")\n",
    "\n",
    "#6\n",
    "    def calculate_inventory_value(self):\n",
    "        total_value = 0       #We will use this variable to calculate the total amount\n",
    "        \n",
    "        for i in self.inventory:\n",
    "            product_value = i[\"price\"] * i[\"quantity\"] #in this variable for each item we will have a value of its stock multiplied by its price\n",
    "            total_value += product_value #it will record the accumulated value of the previous calculation of each product.\n",
    "            \n",
    "            print(f\"{i[\"name\"]}: {i[\"quantity\"]} items x ${i[\"price\"]} = ${product_value}\")\n",
    "        \n",
    "        print(f\"The total value of the inventory is ${total_value}.\") #final value of the inventory\n",
    "\n",
    "#7\n",
    "    def make_purchase(self):\n",
    "        empty_shopping_cart = {} #dictionary for storing purchased products\n",
    "        total_purchase = 0  #total amount of the purchases to have the register\n",
    "        \n",
    "        while True:  #with this kind of loop, the customer will be able to add more than one item to the basket\n",
    "            product_to_buy = input(\"Enter the name of the product you want to buy or 'exit' to finish: \").lower()\n",
    "            \n",
    "            if product_to_buy == \"exit\":\n",
    "                break #it takes me out of the loop if I type \"exit\"\n",
    "\n",
    "            product_chosen = False  # we use false to check if the product is found\n",
    "            for i in self.inventory:\n",
    "                \n",
    "                if product_to_buy == i[\"name\"].lower():\n",
    "                    product_chosen = True #the product is found, now it will ask me for the desired quantity\n",
    "                    product_quantity = int(input(\"How many units do you want to buy? \"))\n",
    "                    \n",
    "                    if product_quantity <= 0:\n",
    "                        print(\"Quantity must be a positive number.\") #cannot be 0 or negative\n",
    "                        continue\n",
    "                    \n",
    "                    elif product_quantity > i[\"quantity\"]: #when customer ask for more than I have\n",
    "                        print(f\"Not enough stock of: {i[\"name\"]}. Available: {i[\"quantity\"]} units\")\n",
    "                        break\n",
    "                    \n",
    "                    elif i[\"name\"] in empty_shopping_cart: #if there is already an item with that name in the shopping cart, the new quantity will be added\n",
    "                        empty_shopping_cart[i[\"name\"]][\"quantity\"] += product_quantity\n",
    "                    \n",
    "                    else: #if there are no more items with that name in the shopping cart, it will add it with its price and quantity.\n",
    "                        empty_shopping_cart[i[\"name\"]] = {\"price\": i[\"price\"], \"quantity\": product_quantity} \n",
    "\n",
    "                    #total of all items in the shopping cart calculation\n",
    "                    i[\"quantity\"] -= product_quantity #deducts the purchased quantity from inventory.\n",
    "                    \n",
    "                    subtotal = i[\"price\"] * product_quantity\n",
    "                    total_purchase += subtotal\n",
    "                    print(f\"The item {i[\"name\"]} has been added to the shopping cart. Subtotal: ${subtotal}.\")\n",
    "                    break\n",
    "\n",
    "            if product_chosen == False:   #the product is not found and a message is returned to us\n",
    "                print(\"Product not found in the inventory. Please try again.\")\n",
    "\n",
    "#8\n",
    "    def process_payment(self, total_purchase):\n",
    "        print(f\"The total amount to pay is: ${total_purchase}\") #prints by default the total that the customer must pay\n",
    "        \n",
    "        try: #we ask to try the following or give us an error message if it is not possible\n",
    "            amount_given = float(input(\"Enter your payment amount: \"))\n",
    "            \n",
    "            if amount_given < total_purchase: #check if the payment is insufficient\n",
    "                print(f\"You are missing ${total_purchase - amount_given} to complete the payment.\")\n",
    "            \n",
    "            else:\n",
    "                change = amount_given - total_purchase #calculate the change to be returned to the customer\n",
    "                print(f\"Thank you for your purchase! Your change is ${change}.\")\n",
    "        except:\n",
    "            print(\"Error: Please enter a valid number.\") #invalid data provided\n",
    "\n",
    "#9\n",
    "    def add_customer(self, name, email):\n",
    "        #first is to check if the client is already registered in the client dictionary:\n",
    "        if name in self.customers:\n",
    "            print(f\"customer {name} is already in our database.\")\n",
    "        \n",
    "        else: #if not, we record it in the system\n",
    "            self.customers[name] = {\"email\": email, \"purchases\": []}\n",
    "            print(f\"Customer {name} has been added to our system.\")\n",
    "\n",
    "#10\n",
    "    def view_customers(self):\n",
    "        if len(self.customers) == 0: #this is to check if the dictionary is empty (it has no elements)\n",
    "            print(\"There are no registered customers yet.\")\n",
    "        \n",
    "        else:\n",
    "            for name, i in self.customers.items(): #we iterate over key and value, that is, over the name and all the details of the client\n",
    "                print(f\"Name: {name}, email: {i[\"email\"]}, purchases: {i[\"purchases\"]}\")\n",
    "\n",
    "#11\n",
    "    def register_purchase(self, customer_name, shopping_cart):\n",
    "        if customer_name in self.customers:\n",
    "            print(f\"Customer {customer_name} found.\") #check if the customer is registered\n",
    "\n",
    "            total_purchase = 0 #this variable will store the total amount of the purchase\n",
    "            for product_name, i in shopping_cart.items(): #it ​​goes through the shopping cart and returns information about name, quantity and price\n",
    "                item_price = i[\"price\"] #we name the variable for later calculation\n",
    "                product_quantity = i[\"quantity\"]\n",
    "                total_purchase += item_price * product_quantity #it adds the total inventory value of each item to the purchase total\n",
    "\n",
    "            purchase_record = {\"products\": shopping_cart, \"total\": total_purchase} #dictionary with the results of every loop\n",
    "            self.customers[customer_name][\"purchases\"].append(purchase_record) #add this purchase to the customer history\n",
    "            print(f\"Purchase registered. Total amount: ${total_purchase}.\")\n",
    "        \n",
    "        else: #unregistered customer\n",
    "            print(f\"Action cannot be performed because customer '{customer_name}' is not registered.\")\n",
    "\n",
    "#12\n",
    "    def view_customer_purchases(self, customer_name):\n",
    "        if customer_name in self.customers: #if it is already registered, it will show us the purchase record\n",
    "            print(f\"Here is the purchase history for {customer_name}:\")\n",
    "            \n",
    "            purchase_list = self.customers[customer_name][\"purchases\"] #list of purchases made by the customer\n",
    "            if purchase_list: #if the customer has purchases, go through each purchase\n",
    "                \n",
    "                for i in purchase_list: #we search within the purchase history\n",
    "                    print(f\"Total purchase: ${i [\"total\"]}. Here is the detailed breakdown:\")\n",
    "                    \n",
    "                    for product, v in i[\"products\"].items(): #we will go through each name and details within the items of the purchases made\n",
    "                        print(f\"--> {product}, Unit price: ${v[\"price\"]}, units ordered: {v[\"quantity\"]}\")\n",
    "            \n",
    "            else: #the client has no registered purchases\n",
    "                print(\"The client has no registered purchases.\") \n",
    "        \n",
    "        else: #indicates the name of the client who is not registered yet\n",
    "            print(f\"The client {customer_name} is not registered yet.\") \n",
    "\n",
    "#13\n",
    "    def calculate_total_sales(self):\n",
    "        total_sales = 0\n",
    "\n",
    "        for client, i in self.customers.items(): #loop through all customer and their details in the database\n",
    "            \n",
    "            for purchase in i[\"purchases\"]: #go through each customer's purchases\n",
    "                total_sales += purchase[\"total\"] #add the total of each purchase to the accumulated total\n",
    "        \n",
    "        print(f\"The total sales for the store are: ${total_sales}.\")\n",
    "\n"
   ]
  },
  {
   "cell_type": "code",
   "execution_count": 27,
   "metadata": {},
   "outputs": [],
   "source": [
    "# The first thing is to create an object, with which we will test all the methods\n",
    "web = OnlineStore()"
   ]
  },
  {
   "cell_type": "markdown",
   "metadata": {},
   "source": [
    "#**Method 1. add_product:** This method adds a product to the inventory or updates its quantity if it already exists."
   ]
  },
  {
   "cell_type": "code",
   "execution_count": 28,
   "metadata": {},
   "outputs": [
    {
     "name": "stdout",
     "output_type": "stream",
     "text": [
      "The product has been added to the inventory. Current inventory: [{'name': 'Jersey', 'price': 25, 'quantity': 90}]\n"
     ]
    }
   ],
   "source": [
    "web.add_product(\"Jersey\", 25, 90)"
   ]
  },
  {
   "cell_type": "code",
   "execution_count": 29,
   "metadata": {},
   "outputs": [
    {
     "name": "stdout",
     "output_type": "stream",
     "text": [
      "The product has been added to the inventory. Current inventory: [{'name': 'Jersey', 'price': 25, 'quantity': 90}, {'name': 'Shirt', 'price': 20, 'quantity': 50}]\n"
     ]
    }
   ],
   "source": [
    "web.add_product(\"Shirt\", 20, 50)"
   ]
  },
  {
   "cell_type": "code",
   "execution_count": 30,
   "metadata": {},
   "outputs": [
    {
     "name": "stdout",
     "output_type": "stream",
     "text": [
      "The product has been added to the inventory. Current inventory: [{'name': 'Jersey', 'price': 25, 'quantity': 90}, {'name': 'Shirt', 'price': 20, 'quantity': 50}, {'name': 'Jeans', 'price': 30, 'quantity': 30}]\n"
     ]
    }
   ],
   "source": [
    "web.add_product(\"Jeans\", 30, 30)"
   ]
  },
  {
   "cell_type": "code",
   "execution_count": 31,
   "metadata": {},
   "outputs": [
    {
     "name": "stdout",
     "output_type": "stream",
     "text": [
      "The product has been added to the inventory. Current inventory: [{'name': 'Jersey', 'price': 25, 'quantity': 90}, {'name': 'Shirt', 'price': 20, 'quantity': 50}, {'name': 'Jeans', 'price': 30, 'quantity': 30}, {'name': 'Shoes', 'price': 50, 'quantity': 40}]\n"
     ]
    }
   ],
   "source": [
    "web.add_product(\"Shoes\", 50, 40)"
   ]
  },
  {
   "cell_type": "code",
   "execution_count": 32,
   "metadata": {},
   "outputs": [
    {
     "name": "stdout",
     "output_type": "stream",
     "text": [
      "The product: Shirt has been updated, quantity is now 60 and the price is $20\n"
     ]
    },
    {
     "data": {
      "text/plain": [
       "[{'name': 'Jersey', 'price': 25, 'quantity': 90},\n",
       " {'name': 'Shirt', 'price': 20, 'quantity': 60},\n",
       " {'name': 'Jeans', 'price': 30, 'quantity': 30},\n",
       " {'name': 'Shoes', 'price': 50, 'quantity': 40}]"
      ]
     },
     "execution_count": 32,
     "metadata": {},
     "output_type": "execute_result"
    }
   ],
   "source": [
    "web.add_product(\"Shirt\", 20, 10)"
   ]
  },
  {
   "cell_type": "markdown",
   "metadata": {},
   "source": [
    "#**Method 2. view_inventory(self):** Shows the product inventory with its details.\n",
    "\n",
    "_Print all the details of each product_"
   ]
  },
  {
   "cell_type": "code",
   "execution_count": 33,
   "metadata": {},
   "outputs": [
    {
     "name": "stdout",
     "output_type": "stream",
     "text": [
      "Name: Jersey,price: $25, quantity: 90 units\n",
      "Name: Shirt,price: $20, quantity: 60 units\n",
      "Name: Jeans,price: $30, quantity: 30 units\n",
      "Name: Shoes,price: $50, quantity: 40 units\n"
     ]
    }
   ],
   "source": [
    "web.view_inventory()"
   ]
  },
  {
   "cell_type": "markdown",
   "metadata": {},
   "source": [
    "**#Method 3. search_product:** Searches for a product in inventory by name and displays its details if found.\n",
    "\n",
    "_If the product is found, print its details_"
   ]
  },
  {
   "cell_type": "code",
   "execution_count": 34,
   "metadata": {},
   "outputs": [
    {
     "name": "stdout",
     "output_type": "stream",
     "text": [
      "Name: Jersey, price: $25, quantity: 90\n"
     ]
    },
    {
     "data": {
      "text/plain": [
       "[{'name': 'Jersey', 'price': 25, 'quantity': 90},\n",
       " {'name': 'Shirt', 'price': 20, 'quantity': 60},\n",
       " {'name': 'Jeans', 'price': 30, 'quantity': 30},\n",
       " {'name': 'Shoes', 'price': 50, 'quantity': 40}]"
      ]
     },
     "execution_count": 34,
     "metadata": {},
     "output_type": "execute_result"
    }
   ],
   "source": [
    "web.search_product(\"Jersey\")"
   ]
  },
  {
   "cell_type": "markdown",
   "metadata": {},
   "source": [
    "**#Method 4. update_stock:** Updates the stock of a product in the inventory.\n",
    "\n",
    "_Updates quantity based on user input_\n",
    "\n",
    "_If the product is not in inventory, it shows a message indicating it._"
   ]
  },
  {
   "cell_type": "code",
   "execution_count": 35,
   "metadata": {},
   "outputs": [
    {
     "name": "stdout",
     "output_type": "stream",
     "text": [
      "The product Jeans has been updated. The current quantity available is: 10\n"
     ]
    }
   ],
   "source": [
    "web.update_stock(\"jeans\",10)"
   ]
  },
  {
   "cell_type": "code",
   "execution_count": 36,
   "metadata": {},
   "outputs": [
    {
     "name": "stdout",
     "output_type": "stream",
     "text": [
      "Product not found in the inventory.\n"
     ]
    }
   ],
   "source": [
    "web.update_stock(\"skirt\", 30)"
   ]
  },
  {
   "cell_type": "code",
   "execution_count": 37,
   "metadata": {},
   "outputs": [
    {
     "name": "stdout",
     "output_type": "stream",
     "text": [
      "Name: Jersey,price: $25, quantity: 90 units\n",
      "Name: Shirt,price: $20, quantity: 60 units\n",
      "Name: Jeans,price: $30, quantity: 10 units\n",
      "Name: Shoes,price: $50, quantity: 40 units\n"
     ]
    }
   ],
   "source": [
    "web.view_inventory()"
   ]
  },
  {
   "cell_type": "markdown",
   "metadata": {},
   "source": [
    "**#Method 5. remove_product:** Removes a product from inventory by name.\n",
    "\n",
    "_Remove the product from inventory if it exists_\n",
    "\n",
    "_If the product is not in inventory, it shows a message indicating it_"
   ]
  },
  {
   "cell_type": "code",
   "execution_count": 38,
   "metadata": {},
   "outputs": [
    {
     "name": "stdout",
     "output_type": "stream",
     "text": [
      "The product has been added to the inventory. Current inventory: [{'name': 'Jersey', 'price': 25, 'quantity': 90}, {'name': 'Shirt', 'price': 20, 'quantity': 60}, {'name': 'Jeans', 'price': 30, 'quantity': 10}, {'name': 'Shoes', 'price': 50, 'quantity': 40}, {'name': 'skirt', 'price': 30, 'quantity': 15}]\n",
      "Name: Jersey,price: $25, quantity: 90 units\n",
      "Name: Shirt,price: $20, quantity: 60 units\n",
      "Name: Jeans,price: $30, quantity: 10 units\n",
      "Name: Shoes,price: $50, quantity: 40 units\n",
      "Name: skirt,price: $30, quantity: 15 units\n"
     ]
    }
   ],
   "source": [
    "#First I am adding a new product, which I will later delete\n",
    "web.add_product(\"skirt\", 30, 15)\n",
    "web.view_inventory()"
   ]
  },
  {
   "cell_type": "code",
   "execution_count": 39,
   "metadata": {},
   "outputs": [
    {
     "name": "stdout",
     "output_type": "stream",
     "text": [
      "The product skirt has been removed.\n"
     ]
    },
    {
     "data": {
      "text/plain": [
       "[{'name': 'Jersey', 'price': 25, 'quantity': 90},\n",
       " {'name': 'Shirt', 'price': 20, 'quantity': 60},\n",
       " {'name': 'Jeans', 'price': 30, 'quantity': 10},\n",
       " {'name': 'Shoes', 'price': 50, 'quantity': 40}]"
      ]
     },
     "execution_count": 39,
     "metadata": {},
     "output_type": "execute_result"
    }
   ],
   "source": [
    "web.remove_product(\"skirt\")"
   ]
  },
  {
   "cell_type": "code",
   "execution_count": 40,
   "metadata": {},
   "outputs": [
    {
     "name": "stdout",
     "output_type": "stream",
     "text": [
      "Product not found in the inventory.\n"
     ]
    }
   ],
   "source": [
    "web.remove_product(\"dress\")"
   ]
  },
  {
   "cell_type": "markdown",
   "metadata": {},
   "source": [
    "**#Method 6. calculate_inventory_value:** Calculates and displays the total inventory value.\n",
    "\n",
    "_Iterates through the inventory adding the value of each product and accumulates that value_\n",
    "\n",
    "_Calculate total inventory value_"
   ]
  },
  {
   "cell_type": "code",
   "execution_count": 41,
   "metadata": {},
   "outputs": [
    {
     "name": "stdout",
     "output_type": "stream",
     "text": [
      "Jersey: 90 items x $25 = $2250\n",
      "Shirt: 60 items x $20 = $1200\n",
      "Jeans: 10 items x $30 = $300\n",
      "Shoes: 40 items x $50 = $2000\n",
      "The total value of the inventory is $5750.\n"
     ]
    }
   ],
   "source": [
    "web.calculate_inventory_value()"
   ]
  },
  {
   "cell_type": "markdown",
   "metadata": {},
   "source": [
    "**#Method 7. make_purchase:** Allows a customer to make a purchase by selecting products from inventory. must interact\n",
    "with the customer to select products and calculate the total cost of the purchase.\n",
    "\n",
    "_Allows the customer to make multiple purchases_\n",
    "\n",
    "_Shows the inventory and asks the customer to enter the name of the product they want to buy and then the quantity_\n",
    "\n",
    "_If you tell us \"leave\", we finish the purchase_\n",
    "\n",
    "_Register selected products in a cart and update inventory_\n",
    "\n",
    "_Calculate the total cost of the purchase_"
   ]
  },
  {
   "cell_type": "code",
   "execution_count": 42,
   "metadata": {},
   "outputs": [
    {
     "name": "stdout",
     "output_type": "stream",
     "text": [
      "The item Jersey has been added to the shopping cart. Subtotal: $125.\n",
      "The item Shoes has been added to the shopping cart. Subtotal: $100.\n"
     ]
    }
   ],
   "source": [
    "web.make_purchase()"
   ]
  },
  {
   "cell_type": "markdown",
   "metadata": {},
   "source": [
    "**#Method 8. process_payment:** Processes payment for a purchase, calculates the change, and displays a confirmation message.\n",
    "\n",
    "_Ask the client with an input for the total they have to pay and then the amount they give you to pay_\n",
    "\n",
    "_Calculates the change and displays a successful payment message or an error in case of insufficient amount_"
   ]
  },
  {
   "cell_type": "code",
   "execution_count": 43,
   "metadata": {},
   "outputs": [
    {
     "name": "stdout",
     "output_type": "stream",
     "text": [
      "The total amount to pay is: $125\n",
      "Thank you for your purchase! Your change is $75.0.\n"
     ]
    }
   ],
   "source": [
    "web.process_payment(125)"
   ]
  },
  {
   "cell_type": "code",
   "execution_count": 44,
   "metadata": {},
   "outputs": [
    {
     "name": "stdout",
     "output_type": "stream",
     "text": [
      "The total amount to pay is: $125\n",
      "You are missing $60.0 to complete the payment.\n"
     ]
    }
   ],
   "source": [
    "web.process_payment(125)"
   ]
  },
  {
   "cell_type": "markdown",
   "metadata": {},
   "source": [
    "**#Method 9. add_customer:** Adds a new customer to the customer registry.\n",
    "\n",
    "_You must receive the customer's name and email as parameters_"
   ]
  },
  {
   "cell_type": "code",
   "execution_count": 45,
   "metadata": {},
   "outputs": [
    {
     "name": "stdout",
     "output_type": "stream",
     "text": [
      "Customer Cris has been added to our system.\n"
     ]
    }
   ],
   "source": [
    "web.add_customer(\"Cris\", \"cris@hotmail.com\")"
   ]
  },
  {
   "cell_type": "code",
   "execution_count": 46,
   "metadata": {},
   "outputs": [
    {
     "name": "stdout",
     "output_type": "stream",
     "text": [
      "customer Cris is already in our database.\n"
     ]
    }
   ],
   "source": [
    "web.add_customer(\"Cris\", \"cris@hotmail.com\")"
   ]
  },
  {
   "cell_type": "markdown",
   "metadata": {},
   "source": [
    "**#Method 10. view_clients:** Shows the list of registered clients with their names and emails.\n",
    "\n",
    "_Print each customer's details such as name and email_"
   ]
  },
  {
   "cell_type": "code",
   "execution_count": 47,
   "metadata": {},
   "outputs": [
    {
     "name": "stdout",
     "output_type": "stream",
     "text": [
      "Name: Cris, email: cris@hotmail.com, purchases: []\n"
     ]
    }
   ],
   "source": [
    "web.view_customers()"
   ]
  },
  {
   "cell_type": "markdown",
   "metadata": {},
   "source": [
    "**#Method 11. register_purchase:** Register a purchase for a customer, update the total sales, and add the purchase to the customer's history.\n",
    "\n",
    "_If the client is not in the client dictionary, it shows that the action cannot be performed because the client is not in\n",
    "the dictionary_\n",
    "\n",
    "_Calculates the total of the purchase and records the purchase, including the products and the total_"
   ]
  },
  {
   "cell_type": "code",
   "execution_count": 48,
   "metadata": {},
   "outputs": [
    {
     "name": "stdout",
     "output_type": "stream",
     "text": [
      "Customer Cris found.\n",
      "Purchase registered. Total amount: $225.\n"
     ]
    }
   ],
   "source": [
    "cris_shopping_cart = {\"jersey\": {\"price\": 25, \"quantity\": 5}, \"shoes\": {\"price\": 50, \"quantity\": 2}}\n",
    "web.register_purchase(\"Cris\", cris_shopping_cart)"
   ]
  },
  {
   "cell_type": "markdown",
   "metadata": {},
   "source": [
    "**#Method 12. view_customer_purchases:** Shows the purchase history of a customer\n",
    "\n",
    "_Displays purchases made by the customer, including product details and totals_"
   ]
  },
  {
   "cell_type": "code",
   "execution_count": 49,
   "metadata": {},
   "outputs": [
    {
     "name": "stdout",
     "output_type": "stream",
     "text": [
      "Here is the purchase history for Cris:\n",
      "Total purchase: $225. Here is the detailed breakdown:\n",
      "--> jersey, Unit price: $25, units ordered: 5\n",
      "--> shoes, Unit price: $50, units ordered: 2\n"
     ]
    }
   ],
   "source": [
    "web.view_customer_purchases(\"Cris\")"
   ]
  },
  {
   "cell_type": "markdown",
   "metadata": {},
   "source": [
    "**#Method 13. calculate_total_sales:** Shows the total sales of the store\n",
    "\n",
    "_Adds the totals of all purchases made and shows the total sales total in the store_"
   ]
  },
  {
   "cell_type": "code",
   "execution_count": 50,
   "metadata": {},
   "outputs": [
    {
     "name": "stdout",
     "output_type": "stream",
     "text": [
      "The total sales for the store are: $225.\n"
     ]
    }
   ],
   "source": [
    "web.calculate_total_sales()"
   ]
  }
 ],
 "metadata": {
  "kernelspec": {
   "display_name": "base",
   "language": "python",
   "name": "python3"
  },
  "language_info": {
   "codemirror_mode": {
    "name": "ipython",
    "version": 3
   },
   "file_extension": ".py",
   "mimetype": "text/x-python",
   "name": "python",
   "nbconvert_exporter": "python",
   "pygments_lexer": "ipython3",
   "version": "3.12.7"
  }
 },
 "nbformat": 4,
 "nbformat_minor": 2
}
