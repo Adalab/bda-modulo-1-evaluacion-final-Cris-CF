{
 "cells": [
  {
   "cell_type": "markdown",
   "metadata": {},
   "source": [
    "# Evaluación con clases"
   ]
  },
  {
   "cell_type": "code",
   "execution_count": null,
   "metadata": {},
   "outputs": [],
   "source": [
    "class TiendaOnline:\n",
    "    def _init_ (self):\n",
    "        self.inventario = []\n",
    "        self.clientes = {}\n",
    "        self.ventas_totales = 0.0\n",
    "\n",
    "    def agregar_producto(self, nombre, precio, cantidad):\n",
    "        for i in self.inventario:\n",
    "            if i[\"nombre\"] == nombre:\n",
    "                i[\"cantidad\"] += cantidad\n",
    "                i[\"precio\"] = precio\n",
    "                print(f\"El producto {\"nombre\"} ha sido actualizado, la cantidad es {i[\"cantidad\"]} y el precio es de {i[\"precio\"]}\")\n",
    "            else:\n",
    "                nuevo_producto = {\"nombre\": nombre, \"precio\": precio, \"cantidad\": cantidad}\n",
    "                self.inventario.append(nuevo_producto)\n",
    "                print(f\"El producto {\"nombre\"} ha sido agregado a nuestro inventario, actualmente tenemos una cantidad total de {i[\"cantidad\"]} unidades a y su precio es {i[\"precio\"]} euros\")\n",
    "\n",
    "    "
   ]
  },
  {
   "cell_type": "code",
   "execution_count": 37,
   "metadata": {},
   "outputs": [],
   "source": [
    "lista_inventario = [{\"nombre\": \"nueces\", \"precio\": 3, \"cantidad\": 10}, {\"nombre\": \"fresas\", \"precio\": 7.56, \"cantidad\": 5}, {\"nombre\": \"patatas\", \"precio\": 5.4, \"cantidad\": 23}]\n",
    "nuevo_producto: {\"nombre\": \"uvas\", \"precio\": 2.89, \"cantidad\": 12}"
   ]
  },
  {
   "cell_type": "code",
   "execution_count": 38,
   "metadata": {},
   "outputs": [
    {
     "name": "stdout",
     "output_type": "stream",
     "text": [
      "[{'nombre': 'nueces', 'precio': 3, 'cantidad': 10}, {'nombre': 'fresas', 'precio': 7.56, 'cantidad': 5}, {'nombre': 'patatas', 'precio': 5.4, 'cantidad': 23}]\n"
     ]
    }
   ],
   "source": [
    "print(lista_inventario)"
   ]
  },
  {
   "cell_type": "code",
   "execution_count": 39,
   "metadata": {},
   "outputs": [
    {
     "name": "stdout",
     "output_type": "stream",
     "text": [
      "El producto uvas ha sido agregado a nuestro inventario, actualmente tenemos una cantidad total de 12288 unidades a y su precio es de 2.89 euros\n",
      "El producto uvas ha sido agregado a nuestro inventario, actualmente tenemos una cantidad total de 12288 unidades a y su precio es de 2.89 euros\n",
      "El producto uvas ha sido agregado a nuestro inventario, actualmente tenemos una cantidad total de 12288 unidades a y su precio es de 2.89 euros\n",
      "El producto uvas ha sido actualizado, la cantidad es 24576 y el precio es de 2.89\n",
      "El producto uvas ha sido actualizado, la cantidad es 49152 y el precio es de 2.89\n",
      "El producto uvas ha sido actualizado, la cantidad es 98304 y el precio es de 2.89\n"
     ]
    }
   ],
   "source": [
    "for i in lista_inventario:\n",
    "    if i[\"nombre\"] == nuevo_producto[\"nombre\"]:\n",
    "        i[\"cantidad\"] += nuevo_producto[\"cantidad\"]\n",
    "        i[\"precio\"] = nuevo_producto[\"precio\"]\n",
    "        print(f\"El producto {nuevo_producto[\"nombre\"]} ha sido actualizado, la cantidad es {i[\"cantidad\"]} y el precio es de {i[\"precio\"]}\")\n",
    "    else:\n",
    "        lista_inventario.append(nuevo_producto)\n",
    "        print(f\"El producto {nuevo_producto[\"nombre\"]} ha sido agregado a nuestro inventario, actualmente tenemos una cantidad total de {nuevo_producto[\"cantidad\"]} unidades a y su precio es de {nuevo_producto[\"precio\"]} euros\")"
   ]
  }
 ],
 "metadata": {
  "kernelspec": {
   "display_name": "base",
   "language": "python",
   "name": "python3"
  },
  "language_info": {
   "codemirror_mode": {
    "name": "ipython",
    "version": 3
   },
   "file_extension": ".py",
   "mimetype": "text/x-python",
   "name": "python",
   "nbconvert_exporter": "python",
   "pygments_lexer": "ipython3",
   "version": "3.12.7"
  }
 },
 "nbformat": 4,
 "nbformat_minor": 2
}
